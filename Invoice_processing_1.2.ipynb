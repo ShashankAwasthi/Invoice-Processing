{
 "cells": [
  {
   "cell_type": "code",
   "execution_count": 1,
   "metadata": {
    "ExecuteTime": {
     "end_time": "2020-01-20T10:20:50.967727Z",
     "start_time": "2020-01-20T10:20:50.030538Z"
    }
   },
   "outputs": [],
   "source": [
    "import os\n",
    "import tempfile\n",
    "from pdf2image import convert_from_path\n",
    "from PIL import Image \n",
    "import pytesseract\n",
    "import cv2\n",
    "import matplotlib.pyplot as plt\n",
    "import matplotlib.patches as patches\n",
    "import pandas as pd\n",
    "import numpy as np\n",
    "import re\n",
    "from PyPDF2 import PdfFileReader\n",
    "import warnings"
   ]
  },
  {
   "cell_type": "code",
   "execution_count": 2,
   "metadata": {
    "ExecuteTime": {
     "end_time": "2020-01-20T10:20:50.989974Z",
     "start_time": "2020-01-20T10:20:50.971679Z"
    }
   },
   "outputs": [
    {
     "name": "stderr",
     "output_type": "stream",
     "text": [
      "PdfReadWarning: Xref table not zero-indexed. ID numbers for objects will be corrected. [pdf.py:1736]\n"
     ]
    },
    {
     "data": {
      "text/plain": [
       "2"
      ]
     },
     "execution_count": 2,
     "metadata": {},
     "output_type": "execute_result"
    }
   ],
   "source": [
    "pdf = PdfFileReader(open('sapinv2.pdf','rb'))\n",
    "noofpages = pdf.getNumPages()\n",
    "noofpages"
   ]
  },
  {
   "cell_type": "code",
   "execution_count": 3,
   "metadata": {
    "ExecuteTime": {
     "end_time": "2020-01-20T10:20:51.002031Z",
     "start_time": "2020-01-20T10:20:50.995079Z"
    }
   },
   "outputs": [],
   "source": [
    "i=0\n",
    "# filename = 'sapinv2_'+str(i)+'.jpg'\n",
    "# filename1= 'sapinv2.pdf'\n",
    "path=r'D:\\Invoice v2'\n",
    "\n",
    "ref_point = []\n"
   ]
  },
  {
   "cell_type": "code",
   "execution_count": 4,
   "metadata": {
    "ExecuteTime": {
     "end_time": "2020-01-20T10:20:51.018073Z",
     "start_time": "2020-01-20T10:20:51.005247Z"
    }
   },
   "outputs": [
    {
     "data": {
      "text/plain": [
       "['sapinv2_0.jpg', 'sapinv2_1.jpg']"
      ]
     },
     "execution_count": 4,
     "metadata": {},
     "output_type": "execute_result"
    }
   ],
   "source": [
    "filename_list=[]\n",
    "if noofpages>0:\n",
    "    for i in range(0,noofpages):\n",
    "        filename_list.append('sapinv2_'+str(i)+'.jpg')\n",
    "filename_list"
   ]
  },
  {
   "cell_type": "code",
   "execution_count": 5,
   "metadata": {
    "ExecuteTime": {
     "end_time": "2020-01-20T10:20:51.024903Z",
     "start_time": "2020-01-20T10:20:51.020064Z"
    }
   },
   "outputs": [
    {
     "data": {
      "text/plain": [
       "['sapinv2_0.jpg', 'sapinv2_1.jpg']"
      ]
     },
     "execution_count": 5,
     "metadata": {},
     "output_type": "execute_result"
    }
   ],
   "source": [
    "filename_list"
   ]
  },
  {
   "cell_type": "code",
   "execution_count": 6,
   "metadata": {
    "ExecuteTime": {
     "end_time": "2020-01-20T10:20:51.635964Z",
     "start_time": "2020-01-20T10:20:51.027390Z"
    }
   },
   "outputs": [
    {
     "name": "stderr",
     "output_type": "stream",
     "text": [
      "FutureWarning: arrays to stack must be passed as a \"sequence\" type such as list or tuple. Support for non-sequence iterables such as generators is deprecated as of NumPy 1.16 and will raise an error in the future. [ipykernel_launcher.py:8]\n",
      "FutureWarning: arrays to stack must be passed as a \"sequence\" type such as list or tuple. Support for non-sequence iterables such as generators is deprecated as of NumPy 1.16 and will raise an error in the future. [ipykernel_launcher.py:15]\n"
     ]
    }
   ],
   "source": [
    "import numpy as np\n",
    "import PIL\n",
    "\n",
    "#list_im = ['sapinv2_0.jpg', 'sapinv2_1.jpg']\n",
    "imgs    = [ PIL.Image.open(i) for i in filename_list ]\n",
    "# pick the image which is the smallest, and resize the others to match it (can be arbitrary image shape here)\n",
    "min_shape = sorted( [(np.sum(i.size), i.size ) for i in imgs])[0][1]\n",
    "imgs_comb = np.hstack( (np.asarray( i.resize(min_shape) ) for i in imgs ) )\n",
    "\n",
    "# save that beautiful picture\n",
    "# imgs_comb = PIL.Image.fromarray( imgs_comb)\n",
    "# imgs_comb.save( 'sapmerge.jpg' )    \n",
    "\n",
    "# for a vertical stacking it is simple: use vstack\n",
    "imgs_comb = np.vstack( (np.asarray( i.resize(min_shape) ) for i in imgs ) )\n",
    "imgs_comb = PIL.Image.fromarray( imgs_comb)\n",
    "imgs_comb.save( 'sap_invoice_merge.jpg' )"
   ]
  },
  {
   "cell_type": "code",
   "execution_count": null,
   "metadata": {},
   "outputs": [],
   "source": []
  },
  {
   "cell_type": "code",
   "execution_count": null,
   "metadata": {},
   "outputs": [],
   "source": []
  },
  {
   "cell_type": "code",
   "execution_count": null,
   "metadata": {},
   "outputs": [],
   "source": []
  },
  {
   "cell_type": "code",
   "execution_count": null,
   "metadata": {},
   "outputs": [],
   "source": []
  },
  {
   "cell_type": "code",
   "execution_count": 7,
   "metadata": {
    "ExecuteTime": {
     "end_time": "2020-01-20T10:20:55.520622Z",
     "start_time": "2020-01-20T10:20:51.638555Z"
    }
   },
   "outputs": [
    {
     "name": "stdout",
     "output_type": "stream",
     "text": [
      "Text present in images:\n",
      "\n",
      " Purchase order\n",
      "Vendor 3 Org\n",
      "115 115 PO number/date\n",
      "\n",
      "phoenix AZ 85001 4500000147 / 12/31/2019\n",
      "Contact person/Telephone\n",
      "\n",
      "Group 002/770 840 9421\n",
      "Our fax number\n",
      "\n",
      "770 840 9000\n",
      "\n",
      " \n",
      "\n",
      " \n",
      "\n",
      " \n",
      "\n",
      "Your vendor number with us\n",
      "\n",
      "17100086\n",
      "\n",
      "Please deliver to:\n",
      "\n",
      "Plant 1710 - Address Name 1\n",
      "3475 Deer Creek\n",
      "\n",
      "Palo Alto CA 94304-1355\n",
      "\n",
      "Currency USD\n",
      "\n",
      " \n",
      "\n",
      " \n",
      "\n",
      "Item Material Description\n",
      "Order qty. Unit Price per unit Net value\n",
      "00010 250 Spray Foam Insulation\n",
      "10 each\n",
      "Deliv. date Day 12/31/2019\n",
      "Manual Gross Pri 30.00 USD 1 EA 300.00\n",
      "Gross Value 30.00 USD 1 EA 300.00\n",
      "Sum Surcharges/D 0.00 1 EA 0.00\n",
      "Net Value 30.00 USD 1 EA 300.00\n",
      "Net Value 2 (inc 30.00 USD 1 EA 300.00\n",
      "00020 252 Vaseline Lotion\n",
      "12 Bottle\n",
      "Deliv. date Day 12/31/2019\n",
      "Manual Gross Pri 20.00 USD 1 BT 240.00\n",
      "Gross Value 20.00 USD 1 BT 240.00\n",
      "Sum Surcharges/D 0.00 1 BT 0.00\n",
      "Net Value 20.00 USD 1 BT 240.00\n",
      "Net Value 2 (inc 20.00 USD 1 BT 240.00\n",
      "Text present in images:\n",
      "\n",
      " Vendor 3 Org\n",
      "115 115\n",
      "phoenix AZ 85001\n",
      "\n",
      "PO number/date\n",
      "4500000147 / 12/31/2019\n",
      "\n",
      "Page\n",
      "2\n",
      "\n",
      " \n",
      "\n",
      " \n",
      "\n",
      " \n",
      "\n",
      "Item Material Description\n",
      "Order qty. Unit Price per unit\n",
      "00030 TG14 Trad.Good 14,PD,Bought-In,H14\n",
      "11 Piece\n",
      "Deliv. date Day 01/10/2020\n",
      "Manual Gross Pri 12.50 USD 1 PC 137.50\n",
      "Gross Value 12.50 USD 1 PC 137.50\n",
      "Sum Surcharges/D 0.00 1 PC 0.00\n",
      "Net Value 12.50 USD 1 PC 137.50\n",
      "Net Value 2 (inc 12.50 USD 1 PC 137.50\n",
      "Total net value excl. tax USD 677.50\n"
     ]
    }
   ],
   "source": [
    "text3=''\n",
    "for i in filename_list:\n",
    "    \n",
    "    value=Image.open(i) \n",
    "    text2 = pytesseract.image_to_string(value, config='') \n",
    "    print(\"Text present in images:\\n\\n\",text2)\n",
    "    text3=text3+text2"
   ]
  },
  {
   "cell_type": "code",
   "execution_count": 8,
   "metadata": {
    "ExecuteTime": {
     "end_time": "2020-01-20T10:20:55.532169Z",
     "start_time": "2020-01-20T10:20:55.524189Z"
    }
   },
   "outputs": [],
   "source": [
    "file1 = 'sap_invoice_merge.jpg'"
   ]
  },
  {
   "cell_type": "code",
   "execution_count": 9,
   "metadata": {
    "ExecuteTime": {
     "end_time": "2020-01-20T10:20:55.551386Z",
     "start_time": "2020-01-20T10:20:55.534358Z"
    }
   },
   "outputs": [],
   "source": [
    "\n",
    "def getattributes(fieldname):\n",
    "    \n",
    "    def shape_selection(event, x, y, flags, param): \n",
    "        global ref_point,file1\n",
    "        if event == cv2.EVENT_LBUTTONDOWN: \n",
    "            ref_point = [(x, y)] \n",
    "\n",
    "        # check to see if the left mouse button was released \n",
    "        elif event == cv2.EVENT_LBUTTONUP: \n",
    "            # record the ending (x, y) coordinates and indicate that \n",
    "            # the cropping operation is finished \n",
    "            ref_point.append((x, y)) \n",
    "\n",
    "            # draw a rectangle around the region of interest \n",
    "            cv2.rectangle(image, ref_point[0], ref_point[1], (0, 255, 0), 2) \n",
    "            cv2.imshow(fieldname, image) \n",
    "\n",
    "        \n",
    "    image1 = cv2.imread(file1)\n",
    "    #image=cv2.resize(image1,(1000,1000))\n",
    "    W = 1000\n",
    "    height, width, depth = image1.shape\n",
    "    imgScale = W/width\n",
    "    newX,newY = image1.shape[1]*imgScale, image1.shape[0]*imgScale\n",
    "    image = cv2.resize(image1,(int(newX),int(newY)))\n",
    "    #cv2.imshow('',image)\n",
    "    clone = image.copy() \n",
    "    cv2.namedWindow(fieldname,cv2.WINDOW_NORMAL) \n",
    "    cv2.setMouseCallback(fieldname, shape_selection) \n",
    "\n",
    "    while True: \n",
    "        # display the image and wait for a keypress \n",
    "        cv2.imshow(fieldname, image) \n",
    "        key = cv2.waitKey(1)\n",
    "\n",
    "        # press 'r' to reset the window \n",
    "        if key == ord(\"r\"): \n",
    "            image = clone.copy() \n",
    "\n",
    "        # if the 'c' key is pressed, break from the loop \n",
    "        elif key == ord(\"c\"): \n",
    "            break\n",
    "\n",
    "    if len(ref_point) == 2: \n",
    "        crop_img = clone[ref_point[0][1]:ref_point[1][1], ref_point[0][0]: \n",
    "                                                               ref_point[1][0]] \n",
    "        cv2.imshow(\"crop_img\", crop_img) \n",
    "        cv2.waitKey(0) \n",
    "    \n",
    "    cv2.destroyAllWindows()  \n",
    "    return(ref_point)\n",
    "\n",
    "\n"
   ]
  },
  {
   "cell_type": "code",
   "execution_count": 10,
   "metadata": {
    "ExecuteTime": {
     "end_time": "2020-01-20T10:20:55.559395Z",
     "start_time": "2020-01-20T10:20:55.554456Z"
    }
   },
   "outputs": [],
   "source": [
    "\n",
    "fields = ['Purchasing Document','Document Date','Vendor','Description']\n"
   ]
  },
  {
   "cell_type": "code",
   "execution_count": 11,
   "metadata": {
    "ExecuteTime": {
     "end_time": "2020-01-20T10:21:40.127869Z",
     "start_time": "2020-01-20T10:20:55.562107Z"
    }
   },
   "outputs": [],
   "source": [
    "\n",
    "asd = {}\n",
    "for x in fields:\n",
    "    ref = getattributes(x)\n",
    "    h = ref[0][0]-ref[1][0]\n",
    "    w = ref[0][1]-ref[1][1]\n",
    "    asd[x] = [ref[0],h,w,ref]"
   ]
  },
  {
   "cell_type": "code",
   "execution_count": 12,
   "metadata": {
    "ExecuteTime": {
     "end_time": "2020-01-20T10:21:40.144808Z",
     "start_time": "2020-01-20T10:21:40.134236Z"
    }
   },
   "outputs": [
    {
     "data": {
      "text/plain": [
       "{'Purchasing Document': [(516, 285), -126, -28, [(516, 285), (642, 313)]],\n",
       " 'Document Date': [(667, 265), -138, -57, [(667, 265), (805, 322)]],\n",
       " 'Vendor': [(71, 505), -118, -33, [(71, 505), (189, 538)]],\n",
       " 'Description': [(19, 760), -966, -1546, [(19, 760), (985, 2306)]]}"
      ]
     },
     "execution_count": 12,
     "metadata": {},
     "output_type": "execute_result"
    }
   ],
   "source": [
    "asd"
   ]
  },
  {
   "cell_type": "code",
   "execution_count": 13,
   "metadata": {
    "ExecuteTime": {
     "end_time": "2020-01-20T10:21:40.157286Z",
     "start_time": "2020-01-20T10:21:40.149869Z"
    }
   },
   "outputs": [],
   "source": [
    "myfile = open('image_coordinates.txt', 'w')\n",
    "myfile.writelines(str(asd))\n",
    "myfile.close()"
   ]
  },
  {
   "cell_type": "code",
   "execution_count": 14,
   "metadata": {
    "ExecuteTime": {
     "end_time": "2020-01-20T10:21:40.275787Z",
     "start_time": "2020-01-20T10:21:40.160309Z"
    }
   },
   "outputs": [],
   "source": [
    "image = cv2.imread(file1)\n"
   ]
  },
  {
   "cell_type": "code",
   "execution_count": 15,
   "metadata": {
    "ExecuteTime": {
     "end_time": "2020-01-20T10:21:40.798859Z",
     "start_time": "2020-01-20T10:21:40.277460Z"
    }
   },
   "outputs": [
    {
     "data": {
      "image/png": "[encoded data removed]",
      "text/plain": [
       "<Figure size 864x864 with 1 Axes>"
      ]
     },
     "metadata": {
      "needs_background": "light"
     },
     "output_type": "display_data"
    }
   ],
   "source": [
    "image1 = cv2.imread(file1)\n",
    "    #image=cv2.resize(image1,(1000,1000))\n",
    "W = 1000\n",
    "height, width, depth = image1.shape\n",
    "imgScale = W/width\n",
    "newX,newY = image1.shape[1]*imgScale, image1.shape[0]*imgScale\n",
    "image = cv2.resize(image1,(int(newX),int(newY)))\n",
    "\n",
    "fig,ax = plt.subplots(1,figsize=(12,12))\n",
    "ax.imshow(image)\n",
    "for x in asd.keys():\n",
    "    ax.add_patch(patches.Rectangle(asd[x][0],width = abs(asd[x][1]),height = abs(asd[x][2]),facecolor='None',edgecolor='b'))\n"
   ]
  },
  {
   "cell_type": "code",
   "execution_count": 16,
   "metadata": {
    "ExecuteTime": {
     "end_time": "2020-01-20T10:21:47.024600Z",
     "start_time": "2020-01-20T10:21:40.800455Z"
    }
   },
   "outputs": [
    {
     "data": {
      "image/png": "[encoded data removed]",
      "text/plain": [
       "<Figure size 864x864 with 1 Axes>"
      ]
     },
     "metadata": {
      "needs_background": "light"
     },
     "output_type": "display_data"
    },
    {
     "data": {
      "image/png": "[encoded data removed]",
      "text/plain": [
       "<Figure size 864x864 with 1 Axes>"
      ]
     },
     "metadata": {
      "needs_background": "light"
     },
     "output_type": "display_data"
    },
    {
     "data": {
      "image/png": "[encoded data removed]",
      "text/plain": [
       "<Figure size 864x864 with 1 Axes>"
      ]
     },
     "metadata": {
      "needs_background": "light"
     },
     "output_type": "display_data"
    },
    {
     "data": {
      "image/png": "[encoded data removed]",
      "text/plain": [
       "<Figure size 864x864 with 1 Axes>"
      ]
     },
     "metadata": {
      "needs_background": "light"
     },
     "output_type": "display_data"
    }
   ],
   "source": [
    "for x in asd.keys():\n",
    "    plt.figure(figsize=(12,12))\n",
    "    ref_point = asd[x][3]\n",
    "    crop_img = image[ref_point[0][1]:ref_point[1][1], ref_point[0][0]: ref_point[1][0]] \n",
    "    plt.imshow(crop_img)\n",
    "    strings_image = pytesseract.image_to_string(crop_img)"
   ]
  },
  {
   "cell_type": "code",
   "execution_count": 254,
   "metadata": {
    "ExecuteTime": {
     "end_time": "2020-01-20T11:22:02.725935Z",
     "start_time": "2020-01-20T11:21:57.860824Z"
    }
   },
   "outputs": [
    {
     "name": "stdout",
     "output_type": "stream",
     "text": [
      "4500000147 \n",
      "....\n",
      "\n",
      "12/31/2019\n",
      "\n",
      "se \n",
      "....\n",
      "\n",
      "17100086 \n",
      "....\n",
      "\n",
      "Currency USD\n",
      "\n",
      " \n",
      "\n",
      " \n",
      "\n",
      " \n",
      "\n",
      " \n",
      "\n",
      " \n",
      "\n",
      "Item Material Description\n",
      "Order qty. Unit Price per unit Net value\n",
      "00010 250 Spray Foam Insulation\n",
      "10 each\n",
      "Deliv. date Day 12/31/2019\n",
      "Manual Gross Pri 30.00 USD 1 EA 300.00\n",
      "Gross Value 30.00 USD 1 EA 300.00\n",
      "Sum Surcharges/D 0.00 1 EA 0.00\n",
      "Net Value 30.00 USD 1 EA 300.00\n",
      "Net Value 2 (inc 30.00 USD 1 EA 300.00\n",
      "00020 252 Vaseline Lotion\n",
      "12 Bottle\n",
      "Deliv. date Day 12/31/2019\n",
      "Manual Gross Pri 20.00 USD 1 BT 240.00\n",
      "Gross Value 20.00 USD 1 BT 240.00\n",
      "Sum Surcharges/D 0.00 i Bf 0.00\n",
      "Net Value 20.00 USD 1 Br 240.00\n",
      "Net Value 2 (inc 20.00 USD 1 BT 240.00\n",
      "Vendor 3 Org PO number/date Page\n",
      "115 115 4500000147 / 12/31/2019 2\n",
      "phoenix AZ 85001\n",
      "Item Material Description\n",
      "Order qty. Unit Price per unit Net value\n",
      "00030 TG14 Trad.Good 14, PD,Bought-In,H14\n",
      "11 Piece\n",
      "Deliv. date Day 01/10/2020\n",
      "Manual Gross Pri 12.50 USD 1, FC 137.50\n",
      "Gross Value 12.50 USD 1 PC 137.50\n",
      "Sum Surcharges/D 0.00 L Fe 0.00\n",
      "Net Value 12.50 USD 1 PC 137.50\n",
      "Net Value 2 (inc 12.50 USD 1 PC 137.50\n",
      "Total net value excl. tax USD 677.50 \n",
      "....\n",
      "\n"
     ]
    }
   ],
   "source": [
    "for x in asd.keys():\n",
    "    #plt.figure()\n",
    "    ref_point = asd[x][3]\n",
    "    crop_img = image[ref_point[0][1]:ref_point[1][1], ref_point[0][0]: \n",
    "                                                           ref_point[1][0]] \n",
    "    \n",
    "    text = pytesseract.image_to_string(crop_img, config='')\n",
    "    #print (\"..\\n\",text)\n",
    "    text = text + \" \\n....\\n\"\n",
    "    print (text)\n",
    "        \n",
    "    myfile = open('image_text.txt', 'a')\n",
    "    myfile.writelines(text)\n",
    "    myfile.close()\n",
    "    \n",
    "\n"
   ]
  },
  {
   "cell_type": "code",
   "execution_count": 18,
   "metadata": {
    "ExecuteTime": {
     "end_time": "2020-01-20T10:21:51.918678Z",
     "start_time": "2020-01-20T10:21:51.908623Z"
    }
   },
   "outputs": [],
   "source": [
    "# fields2= ['Description']"
   ]
  },
  {
   "cell_type": "code",
   "execution_count": 19,
   "metadata": {
    "ExecuteTime": {
     "end_time": "2020-01-20T10:21:51.927028Z",
     "start_time": "2020-01-20T10:21:51.920545Z"
    }
   },
   "outputs": [],
   "source": [
    "# ref=[]\n",
    "\n",
    "\n",
    "# asd2 = {}\n",
    "\n",
    "# for x in fields2:\n",
    "#     ref = getattributes(x)\n",
    "#     h = ref[0][0]-ref[1][0]\n",
    "#     w = ref[0][1]-ref[1][1]\n",
    "#     asd2[x] = [ref[0],h,w,ref]\n"
   ]
  },
  {
   "cell_type": "code",
   "execution_count": 21,
   "metadata": {
    "ExecuteTime": {
     "end_time": "2020-01-20T10:21:56.150694Z",
     "start_time": "2020-01-20T10:21:56.142581Z"
    }
   },
   "outputs": [],
   "source": [
    "# asd2"
   ]
  },
  {
   "cell_type": "code",
   "execution_count": 22,
   "metadata": {
    "ExecuteTime": {
     "end_time": "2020-01-20T10:22:00.419379Z",
     "start_time": "2020-01-20T10:22:00.415901Z"
    }
   },
   "outputs": [],
   "source": [
    "\n",
    "# for x in asd2.keys():\n",
    "#     #plt.figure()\n",
    "#     ref_point = asd2[x][3]\n",
    "#     crop_img = image[ref_point[0][1]:ref_point[1][1], ref_point[0][0]: \n",
    "#                                                            ref_point[1][0]] \n",
    "    \n",
    "#     text = pytesseract.image_to_string(crop_img, config='')\n",
    "#     #print (\"..\\n\",text)\n",
    "#     text = text + \" \\n....\\n\"\n",
    "#     print (text)\n",
    "        \n",
    "#     myfile = open('image_text2.txt', 'a')\n",
    "#     myfile.writelines(text)\n",
    "#     myfile.close()\n",
    "    \n",
    "\n"
   ]
  },
  {
   "cell_type": "code",
   "execution_count": 23,
   "metadata": {
    "ExecuteTime": {
     "end_time": "2020-01-20T10:22:00.431254Z",
     "start_time": "2020-01-20T10:22:00.421374Z"
    }
   },
   "outputs": [],
   "source": [
    "def Open_text():\n",
    "    fi = open(\"image_text.txt\").read()\n",
    "    x2 = fi.split('\\n')\n",
    "    return(x2)"
   ]
  },
  {
   "cell_type": "code",
   "execution_count": 24,
   "metadata": {
    "ExecuteTime": {
     "end_time": "2020-01-20T10:22:00.446265Z",
     "start_time": "2020-01-20T10:22:00.433766Z"
    }
   },
   "outputs": [
    {
     "data": {
      "text/plain": [
       "['4500000147 ',\n",
       " '....',\n",
       " '12/31/2019 ',\n",
       " '....',\n",
       " '17100086 ',\n",
       " '....',\n",
       " 'Currency USD',\n",
       " '',\n",
       " ' ',\n",
       " '',\n",
       " ' ',\n",
       " '',\n",
       " ' ',\n",
       " '',\n",
       " ' ',\n",
       " '',\n",
       " ' ',\n",
       " '',\n",
       " 'Item Material Description',\n",
       " 'Order qty. Unit Price per unit Net value',\n",
       " '00010 250 Spray Foam Insulation',\n",
       " '10 each',\n",
       " 'Deliv. date Day 12/31/2019',\n",
       " 'Manual Gross Pri 30.00 USD 1 EA 300.00',\n",
       " 'Gross Value 30.00 USD 1 EA 300.00',\n",
       " 'Sum Surcharges/D 0.00 1 EA 0.00',\n",
       " 'Net Value 30.00 USD 1 EA 300.00',\n",
       " 'Net Value 2 (inc 30.00 USD 1 EA 300.00',\n",
       " '00020 252 Vaseline Lotion',\n",
       " '12 Bottle',\n",
       " 'Deliv. date Day 12/31/2019',\n",
       " 'Manual Gross Pri 20.00 USD 1 BT 240.00',\n",
       " 'Gross Value 20.00 USD 1 BT 240.00',\n",
       " 'Sum Surcharges/D 0.00 i Bf 0.00',\n",
       " 'Net Value 20.00 USD 1 Br 240.00',\n",
       " 'Net Value 2 (inc 20.00 USD 1 BT 240.00',\n",
       " 'Vendor 3 Org PO number/date Page',\n",
       " '115 115 4500000147 / 12/31/2019 2',\n",
       " 'phoenix AZ 85001',\n",
       " 'Item Material Description',\n",
       " 'Order qty. Unit Price per unit Net value',\n",
       " '00030 TG14 Trad.Good 14, PD,Bought-In,H14',\n",
       " '11 Piece',\n",
       " 'Deliv. date Day 01/10/2020',\n",
       " 'Manual Gross Pri 12.50 USD 1, FC 137.50',\n",
       " 'Gross Value 12.50 USD 1 PC 137.50',\n",
       " 'Sum Surcharges/D 0.00 L Fe 0.00',\n",
       " 'Net Value 12.50 USD 1 PC 137.50',\n",
       " 'Net Value 2 (inc 12.50 USD 1 PC 137.50',\n",
       " 'Total net value excl. tax USD 677.50 ',\n",
       " '....',\n",
       " '4500000147 ',\n",
       " '....',\n",
       " '12/31/2019',\n",
       " '',\n",
       " 'se ',\n",
       " '....',\n",
       " '17100086 ',\n",
       " '....',\n",
       " 'Currency USD',\n",
       " '',\n",
       " ' ',\n",
       " '',\n",
       " ' ',\n",
       " '',\n",
       " ' ',\n",
       " '',\n",
       " ' ',\n",
       " '',\n",
       " ' ',\n",
       " '',\n",
       " 'Item Material Description',\n",
       " 'Order qty. Unit Price per unit Net value',\n",
       " '00010 250 Spray Foam Insulation',\n",
       " '10 each',\n",
       " 'Deliv. date Day 12/31/2019',\n",
       " 'Manual Gross Pri 30.00 USD 1 EA 300.00',\n",
       " 'Gross Value 30.00 USD 1 EA 300.00',\n",
       " 'Sum Surcharges/D 0.00 1 EA 0.00',\n",
       " 'Net Value 30.00 USD 1 EA 300.00',\n",
       " 'Net Value 2 (inc 30.00 USD 1 EA 300.00',\n",
       " '00020 252 Vaseline Lotion',\n",
       " '12 Bottle',\n",
       " 'Deliv. date Day 12/31/2019',\n",
       " 'Manual Gross Pri 20.00 USD 1 BT 240.00',\n",
       " 'Gross Value 20.00 USD 1 BT 240.00',\n",
       " 'Sum Surcharges/D 0.00 i Bf 0.00',\n",
       " 'Net Value 20.00 USD 1 Br 240.00',\n",
       " 'Net Value 2 (inc 20.00 USD 1 BT 240.00',\n",
       " 'Vendor 3 Org PO number/date Page',\n",
       " '115 115 4500000147 / 12/31/2019 2',\n",
       " 'phoenix AZ 85001',\n",
       " 'Item Material Description',\n",
       " 'Order qty. Unit Price per unit Net value',\n",
       " '00030 TG14 Trad.Good 14, PD,Bought-In,H14',\n",
       " '11 Piece',\n",
       " 'Deliv. date Day 01/10/2020',\n",
       " 'Manual Gross Pri 12.50 USD 1, FC 137.50',\n",
       " 'Gross Value 12.50 USD 1 PC 137.50',\n",
       " 'Sum Surcharges/D 0.00 L Fe 0.00',\n",
       " 'Net Value 12.50 USD 1 PC 137.50',\n",
       " 'Net Value 2 (inc 12.50 USD 1 PC 137.50',\n",
       " 'Total net value excl. tax USD 677.50 ',\n",
       " '....',\n",
       " '']"
      ]
     },
     "execution_count": 24,
     "metadata": {},
     "output_type": "execute_result"
    }
   ],
   "source": [
    "x2=Open_text()\n",
    "x2"
   ]
  },
  {
   "cell_type": "code",
   "execution_count": 25,
   "metadata": {
    "ExecuteTime": {
     "end_time": "2020-01-20T10:22:00.454112Z",
     "start_time": "2020-01-20T10:22:00.448259Z"
    }
   },
   "outputs": [
    {
     "data": {
      "text/plain": [
       "['4500000147 ',\n",
       " '....',\n",
       " '12/31/2019 ',\n",
       " '....',\n",
       " '17100086 ',\n",
       " '....',\n",
       " 'Currency USD',\n",
       " '',\n",
       " ' ',\n",
       " '',\n",
       " ' ',\n",
       " '',\n",
       " ' ',\n",
       " '',\n",
       " ' ',\n",
       " '',\n",
       " ' ',\n",
       " '',\n",
       " 'Item Material Description',\n",
       " 'Order qty. Unit Price per unit Net value',\n",
       " '00010 250 Spray Foam Insulation',\n",
       " '10 each',\n",
       " 'Deliv. date Day 12/31/2019',\n",
       " 'Manual Gross Pri 30.00 USD 1 EA 300.00',\n",
       " 'Gross Value 30.00 USD 1 EA 300.00',\n",
       " 'Sum Surcharges/D 0.00 1 EA 0.00',\n",
       " 'Net Value 30.00 USD 1 EA 300.00',\n",
       " 'Net Value 2 (inc 30.00 USD 1 EA 300.00',\n",
       " '00020 252 Vaseline Lotion',\n",
       " '12 Bottle',\n",
       " 'Deliv. date Day 12/31/2019',\n",
       " 'Manual Gross Pri 20.00 USD 1 BT 240.00',\n",
       " 'Gross Value 20.00 USD 1 BT 240.00',\n",
       " 'Sum Surcharges/D 0.00 i Bf 0.00',\n",
       " 'Net Value 20.00 USD 1 Br 240.00',\n",
       " 'Net Value 2 (inc 20.00 USD 1 BT 240.00',\n",
       " 'Vendor 3 Org PO number/date Page',\n",
       " '115 115 4500000147 / 12/31/2019 2',\n",
       " 'phoenix AZ 85001',\n",
       " 'Item Material Description',\n",
       " 'Order qty. Unit Price per unit Net value',\n",
       " '00030 TG14 Trad.Good 14, PD,Bought-In,H14',\n",
       " '11 Piece',\n",
       " 'Deliv. date Day 01/10/2020',\n",
       " 'Manual Gross Pri 12.50 USD 1, FC 137.50',\n",
       " 'Gross Value 12.50 USD 1 PC 137.50',\n",
       " 'Sum Surcharges/D 0.00 L Fe 0.00',\n",
       " 'Net Value 12.50 USD 1 PC 137.50',\n",
       " 'Net Value 2 (inc 12.50 USD 1 PC 137.50',\n",
       " 'Total net value excl. tax USD 677.50 ',\n",
       " '....',\n",
       " '4500000147 ',\n",
       " '....',\n",
       " '12/31/2019',\n",
       " '',\n",
       " 'se ',\n",
       " '....',\n",
       " '17100086 ',\n",
       " '....',\n",
       " 'Currency USD',\n",
       " '',\n",
       " ' ',\n",
       " '',\n",
       " ' ',\n",
       " '',\n",
       " ' ',\n",
       " '',\n",
       " ' ',\n",
       " '',\n",
       " ' ',\n",
       " '',\n",
       " 'Item Material Description',\n",
       " 'Order qty. Unit Price per unit Net value',\n",
       " '00010 250 Spray Foam Insulation',\n",
       " '10 each',\n",
       " 'Deliv. date Day 12/31/2019',\n",
       " 'Manual Gross Pri 30.00 USD 1 EA 300.00',\n",
       " 'Gross Value 30.00 USD 1 EA 300.00',\n",
       " 'Sum Surcharges/D 0.00 1 EA 0.00',\n",
       " 'Net Value 30.00 USD 1 EA 300.00',\n",
       " 'Net Value 2 (inc 30.00 USD 1 EA 300.00',\n",
       " '00020 252 Vaseline Lotion',\n",
       " '12 Bottle',\n",
       " 'Deliv. date Day 12/31/2019',\n",
       " 'Manual Gross Pri 20.00 USD 1 BT 240.00',\n",
       " 'Gross Value 20.00 USD 1 BT 240.00',\n",
       " 'Sum Surcharges/D 0.00 i Bf 0.00',\n",
       " 'Net Value 20.00 USD 1 Br 240.00',\n",
       " 'Net Value 2 (inc 20.00 USD 1 BT 240.00',\n",
       " 'Vendor 3 Org PO number/date Page',\n",
       " '115 115 4500000147 / 12/31/2019 2',\n",
       " 'phoenix AZ 85001',\n",
       " 'Item Material Description',\n",
       " 'Order qty. Unit Price per unit Net value',\n",
       " '00030 TG14 Trad.Good 14, PD,Bought-In,H14',\n",
       " '11 Piece',\n",
       " 'Deliv. date Day 01/10/2020',\n",
       " 'Manual Gross Pri 12.50 USD 1, FC 137.50',\n",
       " 'Gross Value 12.50 USD 1 PC 137.50',\n",
       " 'Sum Surcharges/D 0.00 L Fe 0.00',\n",
       " 'Net Value 12.50 USD 1 PC 137.50',\n",
       " 'Net Value 2 (inc 12.50 USD 1 PC 137.50',\n",
       " 'Total net value excl. tax USD 677.50 ',\n",
       " '....',\n",
       " '']"
      ]
     },
     "execution_count": 25,
     "metadata": {},
     "output_type": "execute_result"
    }
   ],
   "source": [
    "new=x2\n",
    "new"
   ]
  },
  {
   "cell_type": "code",
   "execution_count": 26,
   "metadata": {
    "ExecuteTime": {
     "end_time": "2020-01-20T10:22:00.466905Z",
     "start_time": "2020-01-20T10:22:00.456108Z"
    }
   },
   "outputs": [
    {
     "name": "stdout",
     "output_type": "stream",
     "text": [
      "4500000147\n",
      "....\n",
      "12/31/2019\n",
      "....\n",
      "17100086\n",
      "....\n",
      "currencyusd\n",
      "\n",
      "\n",
      "\n",
      "\n",
      "\n",
      "\n",
      "\n",
      "\n",
      "\n",
      "\n",
      "\n",
      "itemmaterialdescription\n",
      "orderqty.unitpriceperunitnetvalue\n",
      "00010250sprayfoaminsulation\n",
      "10each\n",
      "deliv.dateday12/31/2019\n",
      "manualgrosspri30.00usd1ea300.00\n",
      "grossvalue30.00usd1ea300.00\n",
      "sumsurcharges/d0.001ea0.00\n",
      "netvalue30.00usd1ea300.00\n",
      "netvalue2(inc30.00usd1ea300.00\n",
      "00020252vaselinelotion\n",
      "12bottle\n",
      "deliv.dateday12/31/2019\n",
      "manualgrosspri20.00usd1bt240.00\n",
      "grossvalue20.00usd1bt240.00\n",
      "sumsurcharges/d0.00ibf0.00\n",
      "netvalue20.00usd1br240.00\n",
      "netvalue2(inc20.00usd1bt240.00\n",
      "vendor3orgponumber/datepage\n",
      "1151154500000147/12/31/20192\n",
      "phoenixaz85001\n",
      "itemmaterialdescription\n",
      "orderqty.unitpriceperunitnetvalue\n",
      "00030tg14trad.good14,pd,bought-in,h14\n",
      "11piece\n",
      "deliv.dateday01/10/2020\n",
      "manualgrosspri12.50usd1,fc137.50\n",
      "grossvalue12.50usd1pc137.50\n",
      "sumsurcharges/d0.00lfe0.00\n",
      "netvalue12.50usd1pc137.50\n",
      "netvalue2(inc12.50usd1pc137.50\n",
      "totalnetvalueexcl.taxusd677.50\n",
      "....\n",
      "4500000147\n",
      "....\n",
      "12/31/2019\n",
      "\n",
      "se\n",
      "....\n",
      "17100086\n",
      "....\n",
      "currencyusd\n",
      "\n",
      "\n",
      "\n",
      "\n",
      "\n",
      "\n",
      "\n",
      "\n",
      "\n",
      "\n",
      "\n",
      "itemmaterialdescription\n",
      "orderqty.unitpriceperunitnetvalue\n",
      "00010250sprayfoaminsulation\n",
      "10each\n",
      "deliv.dateday12/31/2019\n",
      "manualgrosspri30.00usd1ea300.00\n",
      "grossvalue30.00usd1ea300.00\n",
      "sumsurcharges/d0.001ea0.00\n",
      "netvalue30.00usd1ea300.00\n",
      "netvalue2(inc30.00usd1ea300.00\n",
      "00020252vaselinelotion\n",
      "12bottle\n",
      "deliv.dateday12/31/2019\n",
      "manualgrosspri20.00usd1bt240.00\n",
      "grossvalue20.00usd1bt240.00\n",
      "sumsurcharges/d0.00ibf0.00\n",
      "netvalue20.00usd1br240.00\n",
      "netvalue2(inc20.00usd1bt240.00\n",
      "vendor3orgponumber/datepage\n",
      "1151154500000147/12/31/20192\n",
      "phoenixaz85001\n",
      "itemmaterialdescription\n",
      "orderqty.unitpriceperunitnetvalue\n",
      "00030tg14trad.good14,pd,bought-in,h14\n",
      "11piece\n",
      "deliv.dateday01/10/2020\n",
      "manualgrosspri12.50usd1,fc137.50\n",
      "grossvalue12.50usd1pc137.50\n",
      "sumsurcharges/d0.00lfe0.00\n",
      "netvalue12.50usd1pc137.50\n",
      "netvalue2(inc12.50usd1pc137.50\n",
      "totalnetvalueexcl.taxusd677.50\n",
      "....\n",
      "\n"
     ]
    }
   ],
   "source": [
    "\n",
    "for i in new:\n",
    "    rt1=i.lower()\n",
    "    rt = ''.join(rt1.split())\n",
    "    \n",
    "    print(rt)\n",
    "    if 'totalnetvalueexcl.taxusd' in rt:\n",
    "        i=re.sub('Total net value excl. tax USD ','totalnetvalueexcl.taxusd',i,flags=re.IGNORECASE)\n",
    "        ser = re.compile(re.escape(\"totalnetvalueexcl.taxusd\"),re.IGNORECASE)       \n",
    "        bill = ser.sub(\"\",i)\n"
   ]
  },
  {
   "cell_type": "code",
   "execution_count": 27,
   "metadata": {
    "ExecuteTime": {
     "end_time": "2020-01-20T10:22:00.476248Z",
     "start_time": "2020-01-20T10:22:00.467902Z"
    }
   },
   "outputs": [
    {
     "data": {
      "text/plain": [
       "'677.50 '"
      ]
     },
     "execution_count": 27,
     "metadata": {},
     "output_type": "execute_result"
    }
   ],
   "source": [
    "bill"
   ]
  },
  {
   "cell_type": "code",
   "execution_count": 28,
   "metadata": {
    "ExecuteTime": {
     "end_time": "2020-01-20T10:22:00.484961Z",
     "start_time": "2020-01-20T10:22:00.480189Z"
    }
   },
   "outputs": [
    {
     "data": {
      "text/plain": [
       "677.5"
      ]
     },
     "execution_count": 28,
     "metadata": {},
     "output_type": "execute_result"
    }
   ],
   "source": [
    "total = float(bill)\n",
    "total"
   ]
  },
  {
   "cell_type": "code",
   "execution_count": 29,
   "metadata": {
    "ExecuteTime": {
     "end_time": "2020-01-20T10:22:00.494587Z",
     "start_time": "2020-01-20T10:22:00.487815Z"
    }
   },
   "outputs": [],
   "source": [
    "# text4=text3.split('\\n')\n",
    "# text4"
   ]
  },
  {
   "cell_type": "code",
   "execution_count": null,
   "metadata": {},
   "outputs": [],
   "source": []
  },
  {
   "cell_type": "code",
   "execution_count": null,
   "metadata": {},
   "outputs": [],
   "source": []
  },
  {
   "cell_type": "code",
   "execution_count": null,
   "metadata": {
    "ExecuteTime": {
     "end_time": "2020-01-13T11:25:39.286140Z",
     "start_time": "2020-01-13T11:25:39.280831Z"
    }
   },
   "outputs": [],
   "source": []
  },
  {
   "cell_type": "code",
   "execution_count": 30,
   "metadata": {
    "ExecuteTime": {
     "end_time": "2020-01-20T10:22:00.500463Z",
     "start_time": "2020-01-20T10:22:00.494587Z"
    }
   },
   "outputs": [],
   "source": [
    "#T[\\w\\d\\s]+[\\d]{1,}"
   ]
  },
  {
   "cell_type": "code",
   "execution_count": 31,
   "metadata": {
    "ExecuteTime": {
     "end_time": "2020-01-20T10:22:00.507617Z",
     "start_time": "2020-01-20T10:22:00.501491Z"
    }
   },
   "outputs": [
    {
     "name": "stdout",
     "output_type": "stream",
     "text": [
      "4500000147 \n",
      "17100086 \n",
      "00010 250 Spray Foam Insulation\n",
      "10 each\n",
      "00020 252 Vaseline Lotion\n",
      "12 Bottle\n",
      "11 Piece\n",
      "4500000147 \n",
      "17100086 \n",
      "00010 250 Spray Foam Insulation\n",
      "10 each\n",
      "00020 252 Vaseline Lotion\n",
      "12 Bottle\n",
      "11 Piece\n"
     ]
    }
   ],
   "source": [
    "for ele in new:\n",
    "    \n",
    "     if re.findall('^\\d+[\\d\\w\\s]+\\D+$',ele):\n",
    "            print(ele)\n",
    "         "
   ]
  },
  {
   "cell_type": "code",
   "execution_count": 32,
   "metadata": {
    "ExecuteTime": {
     "end_time": "2020-01-20T10:22:00.518728Z",
     "start_time": "2020-01-20T10:22:00.509439Z"
    }
   },
   "outputs": [
    {
     "name": "stdout",
     "output_type": "stream",
     "text": [
      "4500000147 \n",
      "17100086 \n",
      "00010 250 Spray Foam Insulation\n",
      "00020 252 Vaseline Lotion\n",
      "4500000147 \n",
      "17100086 \n",
      "00010 250 Spray Foam Insulation\n",
      "00020 252 Vaseline Lotion\n"
     ]
    }
   ],
   "source": [
    "\n",
    "for ele in new:\n",
    "    \n",
    "     if re.findall('^\\d{5}[\\d\\w\\s]+\\D+$',ele):\n",
    "            print(ele)\n",
    "        "
   ]
  },
  {
   "cell_type": "code",
   "execution_count": 33,
   "metadata": {
    "ExecuteTime": {
     "end_time": "2020-01-20T10:22:00.529546Z",
     "start_time": "2020-01-20T10:22:00.520495Z"
    }
   },
   "outputs": [
    {
     "name": "stdout",
     "output_type": "stream",
     "text": [
      " \n",
      " \n",
      "  Spray Foam Insulation\n",
      "  Vaseline Lotion\n",
      " \n",
      " \n",
      "  Spray Foam Insulation\n",
      "  Vaseline Lotion\n"
     ]
    }
   ],
   "source": [
    "ele1=''\n",
    "desc =[]\n",
    "for ele in new:\n",
    "    \n",
    "     if re.findall('^\\d{5}[\\d\\w\\s]+\\D+$',ele):\n",
    "            \n",
    "            ele=re.sub('\\d','',ele)\n",
    "            print(ele)\n",
    "            if ele!=' ':\n",
    "                \n",
    "                desc.append(ele)\n",
    "          \n",
    "         "
   ]
  },
  {
   "cell_type": "code",
   "execution_count": 34,
   "metadata": {
    "ExecuteTime": {
     "end_time": "2020-01-20T10:22:00.538360Z",
     "start_time": "2020-01-20T10:22:00.531781Z"
    }
   },
   "outputs": [
    {
     "data": {
      "text/plain": [
       "['  Spray Foam Insulation',\n",
       " '  Vaseline Lotion',\n",
       " '  Spray Foam Insulation',\n",
       " '  Vaseline Lotion']"
      ]
     },
     "execution_count": 34,
     "metadata": {},
     "output_type": "execute_result"
    }
   ],
   "source": [
    "desc"
   ]
  },
  {
   "cell_type": "code",
   "execution_count": null,
   "metadata": {},
   "outputs": [],
   "source": []
  },
  {
   "cell_type": "code",
   "execution_count": 35,
   "metadata": {
    "ExecuteTime": {
     "end_time": "2020-01-20T10:22:00.546362Z",
     "start_time": "2020-01-20T10:22:00.540314Z"
    }
   },
   "outputs": [
    {
     "name": "stdout",
     "output_type": "stream",
     "text": [
      "\n",
      "\n",
      "\n",
      "10 each\n",
      "\n",
      "12 Bottle\n",
      "11 Piece\n",
      "\n",
      "\n",
      "\n",
      "10 each\n",
      "\n",
      "12 Bottle\n",
      "11 Piece\n"
     ]
    }
   ],
   "source": [
    " \n",
    "    \n",
    "\n",
    "ele1=''\n",
    "for ele in new:\n",
    "    if re.findall('^\\d+[\\d\\w\\s]+\\D+$',ele):\n",
    "            \n",
    "            ele=re.sub('^\\d{5}[\\d\\w\\s]+\\D+$','',ele)\n",
    "            #ele=re.sub('\\w\\s','',ele)\n",
    "            print(ele)\n",
    "            \n",
    "    \n",
    "     \n",
    "   "
   ]
  },
  {
   "cell_type": "code",
   "execution_count": 36,
   "metadata": {
    "ExecuteTime": {
     "end_time": "2020-01-20T10:22:00.557671Z",
     "start_time": "2020-01-20T10:22:00.548357Z"
    }
   },
   "outputs": [
    {
     "name": "stdout",
     "output_type": "stream",
     "text": [
      "\n",
      "\n",
      "\n",
      "\n",
      "\n",
      "\n",
      "10 each\n",
      "10\n",
      "\n",
      "\n",
      "12 Bottle\n",
      "12\n",
      "11 Piece\n",
      "11\n",
      "\n",
      "\n",
      "\n",
      "\n",
      "\n",
      "\n",
      "10 each\n",
      "10\n",
      "\n",
      "\n",
      "12 Bottle\n",
      "12\n",
      "11 Piece\n",
      "11\n"
     ]
    }
   ],
   "source": [
    "            \n",
    "            \n",
    "\n",
    "ele1=''\n",
    "for ele in new:\n",
    "    if re.findall('^\\d+[\\d\\w\\s]+\\D+$',ele):\n",
    "            \n",
    "        ele=re.sub('^\\d{5}[\\d\\w\\s]+\\D+$','',ele)\n",
    "        print(ele)\n",
    "        ele=re.sub('[a-zA-Z\\s]','',ele)\n",
    "        print(ele)\n",
    "\n",
    "    \n",
    "     \n",
    "   \n",
    "            \n",
    "    \n",
    "            "
   ]
  },
  {
   "cell_type": "code",
   "execution_count": 37,
   "metadata": {
    "ExecuteTime": {
     "end_time": "2020-01-20T10:22:00.582386Z",
     "start_time": "2020-01-20T10:22:00.560529Z"
    }
   },
   "outputs": [
    {
     "name": "stdout",
     "output_type": "stream",
     "text": [
      "4500000147  --\n",
      " --\n",
      "17100086  --\n",
      " --\n",
      "00010 250 Spray Foam Insulation --\n",
      " --\n",
      "10 each --\n",
      "10 each --\n",
      "00020 252 Vaseline Lotion --\n",
      " --\n",
      "12 Bottle --\n",
      "12 Bottle --\n",
      "11 Piece --\n",
      "11 Piece --\n",
      "4500000147  --\n",
      " --\n",
      "17100086  --\n",
      " --\n",
      "00010 250 Spray Foam Insulation --\n",
      " --\n",
      "10 each --\n",
      "10 each --\n",
      "00020 252 Vaseline Lotion --\n",
      " --\n",
      "12 Bottle --\n",
      "12 Bottle --\n",
      "11 Piece --\n",
      "11 Piece --\n"
     ]
    },
    {
     "data": {
      "text/plain": [
       "['10', '12', '11', '10', '12', '11']"
      ]
     },
     "execution_count": 37,
     "metadata": {},
     "output_type": "execute_result"
    }
   ],
   "source": [
    "se=''      \n",
    "li=[]\n",
    "for ele in new:\n",
    "    if re.findall('^\\d+[\\d\\w\\s]+\\D+$',ele):\n",
    "        print(ele,'--')    \n",
    "        ele=re.sub('^\\d{5}[\\w\\s]+\\D+$','',ele)\n",
    "        print(ele,'--')\n",
    "\n",
    "        ele=re.sub('[\\s*a-zA-Z]','',ele)\n",
    "#         print(ele)\n",
    "        se=ele.replace(' ','')\n",
    "#         print(type(se))\n",
    "        se=se.strip()\n",
    "        if se!='':\n",
    "            li.append(se)\n",
    "            \n",
    "li"
   ]
  },
  {
   "cell_type": "code",
   "execution_count": 38,
   "metadata": {
    "ExecuteTime": {
     "end_time": "2020-01-20T10:22:00.591106Z",
     "start_time": "2020-01-20T10:22:00.583670Z"
    }
   },
   "outputs": [
    {
     "name": "stdout",
     "output_type": "stream",
     "text": [
      "['10', '12', '11', '10', '12', '11']\n"
     ]
    }
   ],
   "source": [
    "print(li)"
   ]
  },
  {
   "cell_type": "code",
   "execution_count": 39,
   "metadata": {
    "ExecuteTime": {
     "end_time": "2020-01-20T10:22:00.596556Z",
     "start_time": "2020-01-20T10:22:00.592552Z"
    }
   },
   "outputs": [],
   "source": [
    "count_item = len(li)"
   ]
  },
  {
   "cell_type": "code",
   "execution_count": 40,
   "metadata": {
    "ExecuteTime": {
     "end_time": "2020-01-20T10:22:00.604387Z",
     "start_time": "2020-01-20T10:22:00.598551Z"
    }
   },
   "outputs": [
    {
     "data": {
      "text/plain": [
       "6"
      ]
     },
     "execution_count": 40,
     "metadata": {},
     "output_type": "execute_result"
    }
   ],
   "source": [
    "count_item"
   ]
  },
  {
   "cell_type": "code",
   "execution_count": null,
   "metadata": {},
   "outputs": [],
   "source": []
  },
  {
   "cell_type": "code",
   "execution_count": null,
   "metadata": {},
   "outputs": [],
   "source": []
  },
  {
   "cell_type": "code",
   "execution_count": 127,
   "metadata": {
    "ExecuteTime": {
     "end_time": "2020-01-20T10:44:20.624216Z",
     "start_time": "2020-01-20T10:44:20.615832Z"
    }
   },
   "outputs": [],
   "source": [
    "\n",
    "def Open_text():\n",
    "    f = open(\"image_text.txt\").read()\n",
    "    x = f.split(' \\n....\\n')\n",
    "    return(x)\n",
    "\n",
    "x=Open_text()\n",
    "        "
   ]
  },
  {
   "cell_type": "code",
   "execution_count": 128,
   "metadata": {
    "ExecuteTime": {
     "end_time": "2020-01-20T10:44:20.978500Z",
     "start_time": "2020-01-20T10:44:20.970375Z"
    }
   },
   "outputs": [],
   "source": [
    "Invoice={}   \n",
    "for key in fields: \n",
    "    for value in x: \n",
    "        Invoice[key] = value \n",
    "        x.remove(value) \n",
    "        break  \n"
   ]
  },
  {
   "cell_type": "code",
   "execution_count": 129,
   "metadata": {
    "ExecuteTime": {
     "end_time": "2020-01-20T10:44:21.240390Z",
     "start_time": "2020-01-20T10:44:21.233944Z"
    }
   },
   "outputs": [
    {
     "data": {
      "text/plain": [
       "{'Purchasing Document': '4500000147',\n",
       " 'Document Date': '12/31/2019',\n",
       " 'Vendor': '17100086',\n",
       " 'Description': 'Currency USD\\n\\n \\n\\n \\n\\n \\n\\n \\n\\n \\n\\nItem Material Description\\nOrder qty. Unit Price per unit Net value\\n00010 250 Spray Foam Insulation\\n10 each\\nDeliv. date Day 12/31/2019\\nManual Gross Pri 30.00 USD 1 EA 300.00\\nGross Value 30.00 USD 1 EA 300.00\\nSum Surcharges/D 0.00 1 EA 0.00\\nNet Value 30.00 USD 1 EA 300.00\\nNet Value 2 (inc 30.00 USD 1 EA 300.00\\n00020 252 Vaseline Lotion\\n12 Bottle\\nDeliv. date Day 12/31/2019\\nManual Gross Pri 20.00 USD 1 BT 240.00\\nGross Value 20.00 USD 1 BT 240.00\\nSum Surcharges/D 0.00 i Bf 0.00\\nNet Value 20.00 USD 1 Br 240.00\\nNet Value 2 (inc 20.00 USD 1 BT 240.00\\nVendor 3 Org PO number/date Page\\n115 115 4500000147 / 12/31/2019 2\\nphoenix AZ 85001\\nItem Material Description\\nOrder qty. Unit Price per unit Net value\\n00030 TG14 Trad.Good 14, PD,Bought-In,H14\\n11 Piece\\nDeliv. date Day 01/10/2020\\nManual Gross Pri 12.50 USD 1, FC 137.50\\nGross Value 12.50 USD 1 PC 137.50\\nSum Surcharges/D 0.00 L Fe 0.00\\nNet Value 12.50 USD 1 PC 137.50\\nNet Value 2 (inc 12.50 USD 1 PC 137.50\\nTotal net value excl. tax USD 677.50'}"
      ]
     },
     "execution_count": 129,
     "metadata": {},
     "output_type": "execute_result"
    }
   ],
   "source": [
    "Invoice"
   ]
  },
  {
   "cell_type": "code",
   "execution_count": 130,
   "metadata": {
    "ExecuteTime": {
     "end_time": "2020-01-20T10:44:21.526028Z",
     "start_time": "2020-01-20T10:44:21.520501Z"
    }
   },
   "outputs": [],
   "source": [
    "description={}"
   ]
  },
  {
   "cell_type": "code",
   "execution_count": 218,
   "metadata": {
    "ExecuteTime": {
     "end_time": "2020-01-20T11:12:36.931828Z",
     "start_time": "2020-01-20T11:12:36.924280Z"
    }
   },
   "outputs": [],
   "source": [
    "Invoice.update({'Gross_Total_value':total})"
   ]
  },
  {
   "cell_type": "code",
   "execution_count": 131,
   "metadata": {
    "ExecuteTime": {
     "end_time": "2020-01-20T10:44:21.836999Z",
     "start_time": "2020-01-20T10:44:21.832051Z"
    }
   },
   "outputs": [],
   "source": [
    "if len(desc)<=count_item:\n",
    "    desc.append(\"\")\n"
   ]
  },
  {
   "cell_type": "code",
   "execution_count": 132,
   "metadata": {
    "ExecuteTime": {
     "end_time": "2020-01-20T10:44:23.839420Z",
     "start_time": "2020-01-20T10:44:23.832269Z"
    }
   },
   "outputs": [
    {
     "data": {
      "text/plain": [
       "['  Spray Foam Insulation',\n",
       " '  Vaseline Lotion',\n",
       " '  Spray Foam Insulation',\n",
       " '  Vaseline Lotion',\n",
       " '',\n",
       " '',\n",
       " '']"
      ]
     },
     "execution_count": 132,
     "metadata": {},
     "output_type": "execute_result"
    }
   ],
   "source": [
    "desc"
   ]
  },
  {
   "cell_type": "code",
   "execution_count": 133,
   "metadata": {
    "ExecuteTime": {
     "end_time": "2020-01-20T10:44:24.590438Z",
     "start_time": "2020-01-20T10:44:24.580250Z"
    }
   },
   "outputs": [],
   "source": [
    "res = dict(zip(desc,li)) "
   ]
  },
  {
   "cell_type": "code",
   "execution_count": 134,
   "metadata": {
    "ExecuteTime": {
     "end_time": "2020-01-20T10:44:24.996283Z",
     "start_time": "2020-01-20T10:44:24.987432Z"
    }
   },
   "outputs": [
    {
     "data": {
      "text/plain": [
       "{'  Spray Foam Insulation': '11', '  Vaseline Lotion': '10', '': '11'}"
      ]
     },
     "execution_count": 134,
     "metadata": {},
     "output_type": "execute_result"
    }
   ],
   "source": [
    "res"
   ]
  },
  {
   "cell_type": "code",
   "execution_count": 135,
   "metadata": {
    "ExecuteTime": {
     "end_time": "2020-01-20T10:44:25.387103Z",
     "start_time": "2020-01-20T10:44:25.383040Z"
    }
   },
   "outputs": [],
   "source": [
    "Invoice['Description'] = res"
   ]
  },
  {
   "cell_type": "code",
   "execution_count": 219,
   "metadata": {
    "ExecuteTime": {
     "end_time": "2020-01-20T11:12:47.295224Z",
     "start_time": "2020-01-20T11:12:47.285898Z"
    }
   },
   "outputs": [
    {
     "data": {
      "text/plain": [
       "{'Purchasing Document': '4500000147',\n",
       " 'Document Date': '12/31/2019',\n",
       " 'Vendor': '17100086',\n",
       " 'Description': {'  Spray Foam Insulation': '11',\n",
       "  '  Vaseline Lotion': '10',\n",
       "  '': '11'},\n",
       " 'Gross_Total_value': 677.5}"
      ]
     },
     "execution_count": 219,
     "metadata": {},
     "output_type": "execute_result"
    }
   ],
   "source": [
    "Invoice"
   ]
  },
  {
   "cell_type": "code",
   "execution_count": 220,
   "metadata": {
    "ExecuteTime": {
     "end_time": "2020-01-20T11:12:50.809506Z",
     "start_time": "2020-01-20T11:12:50.798617Z"
    }
   },
   "outputs": [],
   "source": [
    "final_ext=pd.DataFrame.from_dict(Invoice)"
   ]
  },
  {
   "cell_type": "code",
   "execution_count": 221,
   "metadata": {
    "ExecuteTime": {
     "end_time": "2020-01-20T11:12:51.157665Z",
     "start_time": "2020-01-20T11:12:51.142371Z"
    }
   },
   "outputs": [
    {
     "data": {
      "text/html": [
       "<div>\n",
       "<style scoped>\n",
       "    .dataframe tbody tr th:only-of-type {\n",
       "        vertical-align: middle;\n",
       "    }\n",
       "\n",
       "    .dataframe tbody tr th {\n",
       "        vertical-align: top;\n",
       "    }\n",
       "\n",
       "    .dataframe thead th {\n",
       "        text-align: right;\n",
       "    }\n",
       "</style>\n",
       "<table border=\"1\" class=\"dataframe\">\n",
       "  <thead>\n",
       "    <tr style=\"text-align: right;\">\n",
       "      <th></th>\n",
       "      <th>Purchasing Document</th>\n",
       "      <th>Document Date</th>\n",
       "      <th>Vendor</th>\n",
       "      <th>Description</th>\n",
       "      <th>Gross_Total_value</th>\n",
       "    </tr>\n",
       "  </thead>\n",
       "  <tbody>\n",
       "    <tr>\n",
       "      <td></td>\n",
       "      <td>4500000147</td>\n",
       "      <td>12/31/2019</td>\n",
       "      <td>17100086</td>\n",
       "      <td>11</td>\n",
       "      <td>677.5</td>\n",
       "    </tr>\n",
       "    <tr>\n",
       "      <td>Spray Foam Insulation</td>\n",
       "      <td>4500000147</td>\n",
       "      <td>12/31/2019</td>\n",
       "      <td>17100086</td>\n",
       "      <td>11</td>\n",
       "      <td>677.5</td>\n",
       "    </tr>\n",
       "    <tr>\n",
       "      <td>Vaseline Lotion</td>\n",
       "      <td>4500000147</td>\n",
       "      <td>12/31/2019</td>\n",
       "      <td>17100086</td>\n",
       "      <td>10</td>\n",
       "      <td>677.5</td>\n",
       "    </tr>\n",
       "  </tbody>\n",
       "</table>\n",
       "</div>"
      ],
      "text/plain": [
       "                        Purchasing Document Document Date    Vendor  \\\n",
       "                                 4500000147    12/31/2019  17100086   \n",
       "  Spray Foam Insulation          4500000147    12/31/2019  17100086   \n",
       "  Vaseline Lotion                4500000147    12/31/2019  17100086   \n",
       "\n",
       "                        Description  Gross_Total_value  \n",
       "                                 11              677.5  \n",
       "  Spray Foam Insulation          11              677.5  \n",
       "  Vaseline Lotion                10              677.5  "
      ]
     },
     "execution_count": 221,
     "metadata": {},
     "output_type": "execute_result"
    }
   ],
   "source": [
    "final_ext"
   ]
  },
  {
   "cell_type": "code",
   "execution_count": 222,
   "metadata": {
    "ExecuteTime": {
     "end_time": "2020-01-20T11:12:56.557523Z",
     "start_time": "2020-01-20T11:12:56.546080Z"
    }
   },
   "outputs": [],
   "source": [
    "final_ext.reset_index(level=0, inplace=True)"
   ]
  },
  {
   "cell_type": "code",
   "execution_count": 223,
   "metadata": {
    "ExecuteTime": {
     "end_time": "2020-01-20T11:12:56.912575Z",
     "start_time": "2020-01-20T11:12:56.906449Z"
    }
   },
   "outputs": [],
   "source": [
    "final_ext = final_ext.rename(columns={'index': 'Short Text'})"
   ]
  },
  {
   "cell_type": "code",
   "execution_count": 224,
   "metadata": {
    "ExecuteTime": {
     "end_time": "2020-01-20T11:12:57.227149Z",
     "start_time": "2020-01-20T11:12:57.217092Z"
    }
   },
   "outputs": [
    {
     "data": {
      "text/html": [
       "<div>\n",
       "<style scoped>\n",
       "    .dataframe tbody tr th:only-of-type {\n",
       "        vertical-align: middle;\n",
       "    }\n",
       "\n",
       "    .dataframe tbody tr th {\n",
       "        vertical-align: top;\n",
       "    }\n",
       "\n",
       "    .dataframe thead th {\n",
       "        text-align: right;\n",
       "    }\n",
       "</style>\n",
       "<table border=\"1\" class=\"dataframe\">\n",
       "  <thead>\n",
       "    <tr style=\"text-align: right;\">\n",
       "      <th></th>\n",
       "      <th>Short Text</th>\n",
       "      <th>Purchasing Document</th>\n",
       "      <th>Document Date</th>\n",
       "      <th>Vendor</th>\n",
       "      <th>Description</th>\n",
       "      <th>Gross_Total_value</th>\n",
       "    </tr>\n",
       "  </thead>\n",
       "  <tbody>\n",
       "    <tr>\n",
       "      <td>0</td>\n",
       "      <td></td>\n",
       "      <td>4500000147</td>\n",
       "      <td>12/31/2019</td>\n",
       "      <td>17100086</td>\n",
       "      <td>11</td>\n",
       "      <td>677.5</td>\n",
       "    </tr>\n",
       "    <tr>\n",
       "      <td>1</td>\n",
       "      <td>Spray Foam Insulation</td>\n",
       "      <td>4500000147</td>\n",
       "      <td>12/31/2019</td>\n",
       "      <td>17100086</td>\n",
       "      <td>11</td>\n",
       "      <td>677.5</td>\n",
       "    </tr>\n",
       "    <tr>\n",
       "      <td>2</td>\n",
       "      <td>Vaseline Lotion</td>\n",
       "      <td>4500000147</td>\n",
       "      <td>12/31/2019</td>\n",
       "      <td>17100086</td>\n",
       "      <td>10</td>\n",
       "      <td>677.5</td>\n",
       "    </tr>\n",
       "  </tbody>\n",
       "</table>\n",
       "</div>"
      ],
      "text/plain": [
       "                Short Text Purchasing Document Document Date    Vendor  \\\n",
       "0                                   4500000147    12/31/2019  17100086   \n",
       "1    Spray Foam Insulation          4500000147    12/31/2019  17100086   \n",
       "2          Vaseline Lotion          4500000147    12/31/2019  17100086   \n",
       "\n",
       "  Description  Gross_Total_value  \n",
       "0          11              677.5  \n",
       "1          11              677.5  \n",
       "2          10              677.5  "
      ]
     },
     "execution_count": 224,
     "metadata": {},
     "output_type": "execute_result"
    }
   ],
   "source": [
    "final_ext"
   ]
  },
  {
   "cell_type": "code",
   "execution_count": null,
   "metadata": {},
   "outputs": [],
   "source": []
  },
  {
   "cell_type": "code",
   "execution_count": null,
   "metadata": {},
   "outputs": [],
   "source": []
  },
  {
   "cell_type": "code",
   "execution_count": null,
   "metadata": {},
   "outputs": [],
   "source": []
  },
  {
   "cell_type": "code",
   "execution_count": null,
   "metadata": {},
   "outputs": [],
   "source": []
  },
  {
   "cell_type": "code",
   "execution_count": null,
   "metadata": {},
   "outputs": [],
   "source": []
  },
  {
   "cell_type": "code",
   "execution_count": null,
   "metadata": {},
   "outputs": [],
   "source": []
  },
  {
   "cell_type": "code",
   "execution_count": 232,
   "metadata": {
    "ExecuteTime": {
     "end_time": "2020-01-20T11:13:48.176754Z",
     "start_time": "2020-01-20T11:13:46.360337Z"
    }
   },
   "outputs": [],
   "source": [
    "ekko = pd.read_excel(\"ekko.xlsx\")\n",
    "ekpo = pd.read_excel(\"ekpo.xlsx\")"
   ]
  },
  {
   "cell_type": "code",
   "execution_count": 233,
   "metadata": {
    "ExecuteTime": {
     "end_time": "2020-01-20T11:13:48.220064Z",
     "start_time": "2020-01-20T11:13:48.176754Z"
    }
   },
   "outputs": [
    {
     "data": {
      "text/html": [
       "<div>\n",
       "<style scoped>\n",
       "    .dataframe tbody tr th:only-of-type {\n",
       "        vertical-align: middle;\n",
       "    }\n",
       "\n",
       "    .dataframe tbody tr th {\n",
       "        vertical-align: top;\n",
       "    }\n",
       "\n",
       "    .dataframe thead th {\n",
       "        text-align: right;\n",
       "    }\n",
       "</style>\n",
       "<table border=\"1\" class=\"dataframe\">\n",
       "  <thead>\n",
       "    <tr style=\"text-align: right;\">\n",
       "      <th></th>\n",
       "      <th>Purchasing Document</th>\n",
       "      <th>Company Code</th>\n",
       "      <th>Purch. Doc. Category</th>\n",
       "      <th>Purchasing Doc. Type</th>\n",
       "      <th>Control indicator</th>\n",
       "      <th>Deletion indicator</th>\n",
       "      <th>Status</th>\n",
       "      <th>Created on</th>\n",
       "      <th>Created by</th>\n",
       "      <th>Last Changed</th>\n",
       "      <th>...</th>\n",
       "      <th>Reserved Budget</th>\n",
       "      <th>Special Release Budget</th>\n",
       "      <th>OTB Reason Profile for Special Release</th>\n",
       "      <th>Budget Type</th>\n",
       "      <th>OTB Check Status</th>\n",
       "      <th>Reason OTB Status</th>\n",
       "      <th>Type of OTB Check</th>\n",
       "      <th>OTB-Relevant Contract</th>\n",
       "      <th>Indicator Level for Contracts</th>\n",
       "      <th>Distrib. Using Target Value or Item Data</th>\n",
       "    </tr>\n",
       "  </thead>\n",
       "  <tbody>\n",
       "    <tr>\n",
       "      <td>0</td>\n",
       "      <td>4500000000</td>\n",
       "      <td>1710</td>\n",
       "      <td>F</td>\n",
       "      <td>NB</td>\n",
       "      <td>NaN</td>\n",
       "      <td>NaN</td>\n",
       "      <td>9</td>\n",
       "      <td>2018-11-04</td>\n",
       "      <td>FUNCTIONAL</td>\n",
       "      <td>2018-12-14 19:32:32</td>\n",
       "      <td>...</td>\n",
       "      <td>0</td>\n",
       "      <td>0</td>\n",
       "      <td>NaN</td>\n",
       "      <td>NaN</td>\n",
       "      <td>NaN</td>\n",
       "      <td>NaN</td>\n",
       "      <td>NaN</td>\n",
       "      <td>NaN</td>\n",
       "      <td>NaN</td>\n",
       "      <td>NaN</td>\n",
       "    </tr>\n",
       "    <tr>\n",
       "      <td>1</td>\n",
       "      <td>4500000001</td>\n",
       "      <td>1710</td>\n",
       "      <td>F</td>\n",
       "      <td>NB</td>\n",
       "      <td>NaN</td>\n",
       "      <td>NaN</td>\n",
       "      <td>9</td>\n",
       "      <td>2018-11-04</td>\n",
       "      <td>FUNCTIONAL</td>\n",
       "      <td>2018-11-04 14:49:17</td>\n",
       "      <td>...</td>\n",
       "      <td>0</td>\n",
       "      <td>0</td>\n",
       "      <td>NaN</td>\n",
       "      <td>NaN</td>\n",
       "      <td>NaN</td>\n",
       "      <td>NaN</td>\n",
       "      <td>NaN</td>\n",
       "      <td>NaN</td>\n",
       "      <td>NaN</td>\n",
       "      <td>NaN</td>\n",
       "    </tr>\n",
       "    <tr>\n",
       "      <td>2</td>\n",
       "      <td>4500000002</td>\n",
       "      <td>1710</td>\n",
       "      <td>F</td>\n",
       "      <td>NB</td>\n",
       "      <td>NaN</td>\n",
       "      <td>NaN</td>\n",
       "      <td>9</td>\n",
       "      <td>2018-11-04</td>\n",
       "      <td>FUNCTIONAL</td>\n",
       "      <td>2018-11-04 14:55:26</td>\n",
       "      <td>...</td>\n",
       "      <td>0</td>\n",
       "      <td>0</td>\n",
       "      <td>NaN</td>\n",
       "      <td>NaN</td>\n",
       "      <td>NaN</td>\n",
       "      <td>NaN</td>\n",
       "      <td>NaN</td>\n",
       "      <td>NaN</td>\n",
       "      <td>NaN</td>\n",
       "      <td>NaN</td>\n",
       "    </tr>\n",
       "    <tr>\n",
       "      <td>3</td>\n",
       "      <td>4500000003</td>\n",
       "      <td>1710</td>\n",
       "      <td>F</td>\n",
       "      <td>NB</td>\n",
       "      <td>NaN</td>\n",
       "      <td>NaN</td>\n",
       "      <td>B</td>\n",
       "      <td>2018-11-08</td>\n",
       "      <td>VARUN</td>\n",
       "      <td>2018-11-08 21:25:51</td>\n",
       "      <td>...</td>\n",
       "      <td>0</td>\n",
       "      <td>0</td>\n",
       "      <td>NaN</td>\n",
       "      <td>NaN</td>\n",
       "      <td>NaN</td>\n",
       "      <td>NaN</td>\n",
       "      <td>NaN</td>\n",
       "      <td>NaN</td>\n",
       "      <td>NaN</td>\n",
       "      <td>NaN</td>\n",
       "    </tr>\n",
       "    <tr>\n",
       "      <td>4</td>\n",
       "      <td>4500000004</td>\n",
       "      <td>1710</td>\n",
       "      <td>F</td>\n",
       "      <td>NB</td>\n",
       "      <td>NaN</td>\n",
       "      <td>NaN</td>\n",
       "      <td>B</td>\n",
       "      <td>2018-11-08</td>\n",
       "      <td>VARUN</td>\n",
       "      <td>2018-11-08 21:44:36</td>\n",
       "      <td>...</td>\n",
       "      <td>0</td>\n",
       "      <td>0</td>\n",
       "      <td>NaN</td>\n",
       "      <td>NaN</td>\n",
       "      <td>NaN</td>\n",
       "      <td>NaN</td>\n",
       "      <td>NaN</td>\n",
       "      <td>NaN</td>\n",
       "      <td>NaN</td>\n",
       "      <td>NaN</td>\n",
       "    </tr>\n",
       "  </tbody>\n",
       "</table>\n",
       "<p>5 rows × 177 columns</p>\n",
       "</div>"
      ],
      "text/plain": [
       "   Purchasing Document  Company Code Purch. Doc. Category  \\\n",
       "0           4500000000          1710                    F   \n",
       "1           4500000001          1710                    F   \n",
       "2           4500000002          1710                    F   \n",
       "3           4500000003          1710                    F   \n",
       "4           4500000004          1710                    F   \n",
       "\n",
       "  Purchasing Doc. Type Control indicator  Deletion indicator Status  \\\n",
       "0                   NB               NaN                 NaN      9   \n",
       "1                   NB               NaN                 NaN      9   \n",
       "2                   NB               NaN                 NaN      9   \n",
       "3                   NB               NaN                 NaN      B   \n",
       "4                   NB               NaN                 NaN      B   \n",
       "\n",
       "  Created on  Created by        Last Changed  ...  Reserved Budget  \\\n",
       "0 2018-11-04  FUNCTIONAL 2018-12-14 19:32:32  ...                0   \n",
       "1 2018-11-04  FUNCTIONAL 2018-11-04 14:49:17  ...                0   \n",
       "2 2018-11-04  FUNCTIONAL 2018-11-04 14:55:26  ...                0   \n",
       "3 2018-11-08       VARUN 2018-11-08 21:25:51  ...                0   \n",
       "4 2018-11-08       VARUN 2018-11-08 21:44:36  ...                0   \n",
       "\n",
       "   Special Release Budget OTB Reason Profile for Special Release Budget Type  \\\n",
       "0                       0                                    NaN         NaN   \n",
       "1                       0                                    NaN         NaN   \n",
       "2                       0                                    NaN         NaN   \n",
       "3                       0                                    NaN         NaN   \n",
       "4                       0                                    NaN         NaN   \n",
       "\n",
       "   OTB Check Status  Reason OTB Status  Type of OTB Check  \\\n",
       "0               NaN                NaN                NaN   \n",
       "1               NaN                NaN                NaN   \n",
       "2               NaN                NaN                NaN   \n",
       "3               NaN                NaN                NaN   \n",
       "4               NaN                NaN                NaN   \n",
       "\n",
       "   OTB-Relevant Contract  Indicator Level for Contracts  \\\n",
       "0                    NaN                            NaN   \n",
       "1                    NaN                            NaN   \n",
       "2                    NaN                            NaN   \n",
       "3                    NaN                            NaN   \n",
       "4                    NaN                            NaN   \n",
       "\n",
       "   Distrib. Using Target Value or Item Data  \n",
       "0                                       NaN  \n",
       "1                                       NaN  \n",
       "2                                       NaN  \n",
       "3                                       NaN  \n",
       "4                                       NaN  \n",
       "\n",
       "[5 rows x 177 columns]"
      ]
     },
     "execution_count": 233,
     "metadata": {},
     "output_type": "execute_result"
    }
   ],
   "source": [
    "ekko.head()"
   ]
  },
  {
   "cell_type": "code",
   "execution_count": 234,
   "metadata": {
    "ExecuteTime": {
     "end_time": "2020-01-20T11:13:48.255144Z",
     "start_time": "2020-01-20T11:13:48.223717Z"
    }
   },
   "outputs": [
    {
     "data": {
      "text/html": [
       "<div>\n",
       "<style scoped>\n",
       "    .dataframe tbody tr th:only-of-type {\n",
       "        vertical-align: middle;\n",
       "    }\n",
       "\n",
       "    .dataframe tbody tr th {\n",
       "        vertical-align: top;\n",
       "    }\n",
       "\n",
       "    .dataframe thead th {\n",
       "        text-align: right;\n",
       "    }\n",
       "</style>\n",
       "<table border=\"1\" class=\"dataframe\">\n",
       "  <thead>\n",
       "    <tr style=\"text-align: right;\">\n",
       "      <th></th>\n",
       "      <th>Purchasing Document</th>\n",
       "      <th>Item</th>\n",
       "      <th>Document Item</th>\n",
       "      <th>Deletion indicator</th>\n",
       "      <th>RFQ status</th>\n",
       "      <th>Last Changed on</th>\n",
       "      <th>Short Text</th>\n",
       "      <th>Material</th>\n",
       "      <th>Material.1</th>\n",
       "      <th>Company Code</th>\n",
       "      <th>...</th>\n",
       "      <th>PSST Group</th>\n",
       "      <th>Reference Document for PO Traceability</th>\n",
       "      <th>Reference Item for PO</th>\n",
       "      <th>Reference Split Action in PO</th>\n",
       "      <th>Reference Item</th>\n",
       "      <th>Origin Profile</th>\n",
       "      <th>Key in Source System</th>\n",
       "      <th>Put-Back Indicator</th>\n",
       "      <th>Order List Item Number</th>\n",
       "      <th>Consignment Preferred?</th>\n",
       "    </tr>\n",
       "  </thead>\n",
       "  <tbody>\n",
       "    <tr>\n",
       "      <td>0</td>\n",
       "      <td>4500000000</td>\n",
       "      <td>10</td>\n",
       "      <td>450000000000010</td>\n",
       "      <td>NaN</td>\n",
       "      <td>NaN</td>\n",
       "      <td>2018-12-14</td>\n",
       "      <td>Small Part, Slow-Moving Item</td>\n",
       "      <td>EWMS4-01</td>\n",
       "      <td>EWMS4-01</td>\n",
       "      <td>1710</td>\n",
       "      <td>...</td>\n",
       "      <td>NaN</td>\n",
       "      <td>NaN</td>\n",
       "      <td>0</td>\n",
       "      <td>NaN</td>\n",
       "      <td>0</td>\n",
       "      <td>NaN</td>\n",
       "      <td>NaN</td>\n",
       "      <td>NaN</td>\n",
       "      <td>NaN</td>\n",
       "      <td>NaN</td>\n",
       "    </tr>\n",
       "    <tr>\n",
       "      <td>1</td>\n",
       "      <td>4500000001</td>\n",
       "      <td>10</td>\n",
       "      <td>450000000100010</td>\n",
       "      <td>NaN</td>\n",
       "      <td>NaN</td>\n",
       "      <td>2018-11-04</td>\n",
       "      <td>Small Part, Slow-Moving Item</td>\n",
       "      <td>EWMS4-01</td>\n",
       "      <td>EWMS4-01</td>\n",
       "      <td>1710</td>\n",
       "      <td>...</td>\n",
       "      <td>NaN</td>\n",
       "      <td>NaN</td>\n",
       "      <td>0</td>\n",
       "      <td>NaN</td>\n",
       "      <td>0</td>\n",
       "      <td>NaN</td>\n",
       "      <td>NaN</td>\n",
       "      <td>NaN</td>\n",
       "      <td>NaN</td>\n",
       "      <td>NaN</td>\n",
       "    </tr>\n",
       "    <tr>\n",
       "      <td>2</td>\n",
       "      <td>4500000002</td>\n",
       "      <td>10</td>\n",
       "      <td>450000000200010</td>\n",
       "      <td>NaN</td>\n",
       "      <td>NaN</td>\n",
       "      <td>2018-11-04</td>\n",
       "      <td>Raw Material</td>\n",
       "      <td>2</td>\n",
       "      <td>2</td>\n",
       "      <td>1710</td>\n",
       "      <td>...</td>\n",
       "      <td>NaN</td>\n",
       "      <td>NaN</td>\n",
       "      <td>0</td>\n",
       "      <td>NaN</td>\n",
       "      <td>0</td>\n",
       "      <td>NaN</td>\n",
       "      <td>NaN</td>\n",
       "      <td>NaN</td>\n",
       "      <td>NaN</td>\n",
       "      <td>NaN</td>\n",
       "    </tr>\n",
       "    <tr>\n",
       "      <td>3</td>\n",
       "      <td>4500000003</td>\n",
       "      <td>10</td>\n",
       "      <td>450000000300010</td>\n",
       "      <td>NaN</td>\n",
       "      <td>V</td>\n",
       "      <td>2018-11-08</td>\n",
       "      <td>Trad.Good 10,PD,Third Party</td>\n",
       "      <td>TG10</td>\n",
       "      <td>TG10</td>\n",
       "      <td>1710</td>\n",
       "      <td>...</td>\n",
       "      <td>NaN</td>\n",
       "      <td>NaN</td>\n",
       "      <td>0</td>\n",
       "      <td>NaN</td>\n",
       "      <td>0</td>\n",
       "      <td>NaN</td>\n",
       "      <td>NaN</td>\n",
       "      <td>NaN</td>\n",
       "      <td>NaN</td>\n",
       "      <td>NaN</td>\n",
       "    </tr>\n",
       "    <tr>\n",
       "      <td>4</td>\n",
       "      <td>4500000004</td>\n",
       "      <td>10</td>\n",
       "      <td>450000000400010</td>\n",
       "      <td>NaN</td>\n",
       "      <td>V</td>\n",
       "      <td>2018-11-08</td>\n",
       "      <td>Trad.Good 10,PD,Third Party</td>\n",
       "      <td>TG10</td>\n",
       "      <td>TG10</td>\n",
       "      <td>1710</td>\n",
       "      <td>...</td>\n",
       "      <td>NaN</td>\n",
       "      <td>NaN</td>\n",
       "      <td>0</td>\n",
       "      <td>NaN</td>\n",
       "      <td>0</td>\n",
       "      <td>NaN</td>\n",
       "      <td>NaN</td>\n",
       "      <td>NaN</td>\n",
       "      <td>NaN</td>\n",
       "      <td>NaN</td>\n",
       "    </tr>\n",
       "  </tbody>\n",
       "</table>\n",
       "<p>5 rows × 365 columns</p>\n",
       "</div>"
      ],
      "text/plain": [
       "   Purchasing Document  Item    Document Item Deletion indicator RFQ status  \\\n",
       "0           4500000000    10  450000000000010                NaN        NaN   \n",
       "1           4500000001    10  450000000100010                NaN        NaN   \n",
       "2           4500000002    10  450000000200010                NaN        NaN   \n",
       "3           4500000003    10  450000000300010                NaN          V   \n",
       "4           4500000004    10  450000000400010                NaN          V   \n",
       "\n",
       "  Last Changed on                    Short Text  Material Material.1  \\\n",
       "0      2018-12-14  Small Part, Slow-Moving Item  EWMS4-01   EWMS4-01   \n",
       "1      2018-11-04  Small Part, Slow-Moving Item  EWMS4-01   EWMS4-01   \n",
       "2      2018-11-04                  Raw Material         2          2   \n",
       "3      2018-11-08   Trad.Good 10,PD,Third Party      TG10       TG10   \n",
       "4      2018-11-08   Trad.Good 10,PD,Third Party      TG10       TG10   \n",
       "\n",
       "   Company Code  ... PSST Group Reference Document for PO Traceability  \\\n",
       "0          1710  ...        NaN                                    NaN   \n",
       "1          1710  ...        NaN                                    NaN   \n",
       "2          1710  ...        NaN                                    NaN   \n",
       "3          1710  ...        NaN                                    NaN   \n",
       "4          1710  ...        NaN                                    NaN   \n",
       "\n",
       "  Reference Item for PO Reference Split Action in PO  Reference Item  \\\n",
       "0                     0                          NaN               0   \n",
       "1                     0                          NaN               0   \n",
       "2                     0                          NaN               0   \n",
       "3                     0                          NaN               0   \n",
       "4                     0                          NaN               0   \n",
       "\n",
       "   Origin Profile  Key in Source System  Put-Back Indicator  \\\n",
       "0             NaN                   NaN                 NaN   \n",
       "1             NaN                   NaN                 NaN   \n",
       "2             NaN                   NaN                 NaN   \n",
       "3             NaN                   NaN                 NaN   \n",
       "4             NaN                   NaN                 NaN   \n",
       "\n",
       "  Order List Item Number Consignment Preferred?  \n",
       "0                    NaN                    NaN  \n",
       "1                    NaN                    NaN  \n",
       "2                    NaN                    NaN  \n",
       "3                    NaN                    NaN  \n",
       "4                    NaN                    NaN  \n",
       "\n",
       "[5 rows x 365 columns]"
      ]
     },
     "execution_count": 234,
     "metadata": {},
     "output_type": "execute_result"
    }
   ],
   "source": [
    "ekpo.head()"
   ]
  },
  {
   "cell_type": "code",
   "execution_count": 235,
   "metadata": {
    "ExecuteTime": {
     "end_time": "2020-01-20T11:13:48.281819Z",
     "start_time": "2020-01-20T11:13:48.255144Z"
    }
   },
   "outputs": [
    {
     "data": {
      "text/html": [
       "<div>\n",
       "<style scoped>\n",
       "    .dataframe tbody tr th:only-of-type {\n",
       "        vertical-align: middle;\n",
       "    }\n",
       "\n",
       "    .dataframe tbody tr th {\n",
       "        vertical-align: top;\n",
       "    }\n",
       "\n",
       "    .dataframe thead th {\n",
       "        text-align: right;\n",
       "    }\n",
       "</style>\n",
       "<table border=\"1\" class=\"dataframe\">\n",
       "  <thead>\n",
       "    <tr style=\"text-align: right;\">\n",
       "      <th></th>\n",
       "      <th>Purchasing Document</th>\n",
       "      <th>Company Code</th>\n",
       "      <th>Purch. Doc. Category</th>\n",
       "      <th>Purchasing Doc. Type</th>\n",
       "      <th>Control indicator</th>\n",
       "      <th>Deletion indicator</th>\n",
       "      <th>Status</th>\n",
       "      <th>Created on</th>\n",
       "      <th>Created by</th>\n",
       "      <th>Last Changed</th>\n",
       "      <th>...</th>\n",
       "      <th>Reserved Budget</th>\n",
       "      <th>Special Release Budget</th>\n",
       "      <th>OTB Reason Profile for Special Release</th>\n",
       "      <th>Budget Type</th>\n",
       "      <th>OTB Check Status</th>\n",
       "      <th>Reason OTB Status</th>\n",
       "      <th>Type of OTB Check</th>\n",
       "      <th>OTB-Relevant Contract</th>\n",
       "      <th>Indicator Level for Contracts</th>\n",
       "      <th>Distrib. Using Target Value or Item Data</th>\n",
       "    </tr>\n",
       "  </thead>\n",
       "  <tbody>\n",
       "    <tr>\n",
       "      <td>145</td>\n",
       "      <td>4500000147</td>\n",
       "      <td>1710</td>\n",
       "      <td>F</td>\n",
       "      <td>NB</td>\n",
       "      <td>NaN</td>\n",
       "      <td>NaN</td>\n",
       "      <td>9</td>\n",
       "      <td>2019-12-31</td>\n",
       "      <td>STHULASI</td>\n",
       "      <td>2019-12-31 09:37:46</td>\n",
       "      <td>...</td>\n",
       "      <td>0</td>\n",
       "      <td>0</td>\n",
       "      <td>NaN</td>\n",
       "      <td>NaN</td>\n",
       "      <td>NaN</td>\n",
       "      <td>NaN</td>\n",
       "      <td>NaN</td>\n",
       "      <td>NaN</td>\n",
       "      <td>NaN</td>\n",
       "      <td>NaN</td>\n",
       "    </tr>\n",
       "  </tbody>\n",
       "</table>\n",
       "<p>1 rows × 177 columns</p>\n",
       "</div>"
      ],
      "text/plain": [
       "     Purchasing Document  Company Code Purch. Doc. Category  \\\n",
       "145           4500000147          1710                    F   \n",
       "\n",
       "    Purchasing Doc. Type Control indicator  Deletion indicator Status  \\\n",
       "145                   NB               NaN                 NaN      9   \n",
       "\n",
       "    Created on Created by        Last Changed  ...  Reserved Budget  \\\n",
       "145 2019-12-31   STHULASI 2019-12-31 09:37:46  ...                0   \n",
       "\n",
       "     Special Release Budget OTB Reason Profile for Special Release  \\\n",
       "145                       0                                    NaN   \n",
       "\n",
       "    Budget Type  OTB Check Status  Reason OTB Status  Type of OTB Check  \\\n",
       "145         NaN               NaN                NaN                NaN   \n",
       "\n",
       "     OTB-Relevant Contract  Indicator Level for Contracts  \\\n",
       "145                    NaN                            NaN   \n",
       "\n",
       "     Distrib. Using Target Value or Item Data  \n",
       "145                                       NaN  \n",
       "\n",
       "[1 rows x 177 columns]"
      ]
     },
     "execution_count": 235,
     "metadata": {},
     "output_type": "execute_result"
    }
   ],
   "source": [
    "inv_ekko= ekko[ekko['Purchasing Document']==4500000147]\n",
    "inv_ekko"
   ]
  },
  {
   "cell_type": "code",
   "execution_count": 236,
   "metadata": {
    "ExecuteTime": {
     "end_time": "2020-01-20T11:13:48.295823Z",
     "start_time": "2020-01-20T11:13:48.284020Z"
    }
   },
   "outputs": [
    {
     "data": {
      "text/html": [
       "<div>\n",
       "<style scoped>\n",
       "    .dataframe tbody tr th:only-of-type {\n",
       "        vertical-align: middle;\n",
       "    }\n",
       "\n",
       "    .dataframe tbody tr th {\n",
       "        vertical-align: top;\n",
       "    }\n",
       "\n",
       "    .dataframe thead th {\n",
       "        text-align: right;\n",
       "    }\n",
       "</style>\n",
       "<table border=\"1\" class=\"dataframe\">\n",
       "  <thead>\n",
       "    <tr style=\"text-align: right;\">\n",
       "      <th></th>\n",
       "      <th>Purchasing Document</th>\n",
       "      <th>Document Date</th>\n",
       "      <th>Vendor</th>\n",
       "    </tr>\n",
       "  </thead>\n",
       "  <tbody>\n",
       "    <tr>\n",
       "      <td>145</td>\n",
       "      <td>4500000147</td>\n",
       "      <td>2019-12-31</td>\n",
       "      <td>17100086</td>\n",
       "    </tr>\n",
       "  </tbody>\n",
       "</table>\n",
       "</div>"
      ],
      "text/plain": [
       "     Purchasing Document Document Date    Vendor\n",
       "145           4500000147    2019-12-31  17100086"
      ]
     },
     "execution_count": 236,
     "metadata": {},
     "output_type": "execute_result"
    }
   ],
   "source": [
    "final_ekko = inv_ekko [['Purchasing Document','Document Date','Vendor']]\n",
    "final_ekko"
   ]
  },
  {
   "cell_type": "code",
   "execution_count": 237,
   "metadata": {
    "ExecuteTime": {
     "end_time": "2020-01-20T11:13:48.329371Z",
     "start_time": "2020-01-20T11:13:48.298071Z"
    }
   },
   "outputs": [
    {
     "data": {
      "text/html": [
       "<div>\n",
       "<style scoped>\n",
       "    .dataframe tbody tr th:only-of-type {\n",
       "        vertical-align: middle;\n",
       "    }\n",
       "\n",
       "    .dataframe tbody tr th {\n",
       "        vertical-align: top;\n",
       "    }\n",
       "\n",
       "    .dataframe thead th {\n",
       "        text-align: right;\n",
       "    }\n",
       "</style>\n",
       "<table border=\"1\" class=\"dataframe\">\n",
       "  <thead>\n",
       "    <tr style=\"text-align: right;\">\n",
       "      <th></th>\n",
       "      <th>Purchasing Document</th>\n",
       "      <th>Item</th>\n",
       "      <th>Document Item</th>\n",
       "      <th>Deletion indicator</th>\n",
       "      <th>RFQ status</th>\n",
       "      <th>Last Changed on</th>\n",
       "      <th>Short Text</th>\n",
       "      <th>Material</th>\n",
       "      <th>Material.1</th>\n",
       "      <th>Company Code</th>\n",
       "      <th>...</th>\n",
       "      <th>PSST Group</th>\n",
       "      <th>Reference Document for PO Traceability</th>\n",
       "      <th>Reference Item for PO</th>\n",
       "      <th>Reference Split Action in PO</th>\n",
       "      <th>Reference Item</th>\n",
       "      <th>Origin Profile</th>\n",
       "      <th>Key in Source System</th>\n",
       "      <th>Put-Back Indicator</th>\n",
       "      <th>Order List Item Number</th>\n",
       "      <th>Consignment Preferred?</th>\n",
       "    </tr>\n",
       "  </thead>\n",
       "  <tbody>\n",
       "    <tr>\n",
       "      <td>168</td>\n",
       "      <td>4500000147</td>\n",
       "      <td>10</td>\n",
       "      <td>450000014700010</td>\n",
       "      <td>NaN</td>\n",
       "      <td>NaN</td>\n",
       "      <td>2019-12-31</td>\n",
       "      <td>Spray Foam Insulation</td>\n",
       "      <td>250</td>\n",
       "      <td>250</td>\n",
       "      <td>1710</td>\n",
       "      <td>...</td>\n",
       "      <td>NaN</td>\n",
       "      <td>NaN</td>\n",
       "      <td>0</td>\n",
       "      <td>NaN</td>\n",
       "      <td>0</td>\n",
       "      <td>NaN</td>\n",
       "      <td>NaN</td>\n",
       "      <td>NaN</td>\n",
       "      <td>NaN</td>\n",
       "      <td>NaN</td>\n",
       "    </tr>\n",
       "    <tr>\n",
       "      <td>169</td>\n",
       "      <td>4500000147</td>\n",
       "      <td>20</td>\n",
       "      <td>450000014700020</td>\n",
       "      <td>NaN</td>\n",
       "      <td>NaN</td>\n",
       "      <td>2019-12-31</td>\n",
       "      <td>Vaseline Lotion</td>\n",
       "      <td>252</td>\n",
       "      <td>252</td>\n",
       "      <td>1710</td>\n",
       "      <td>...</td>\n",
       "      <td>NaN</td>\n",
       "      <td>NaN</td>\n",
       "      <td>0</td>\n",
       "      <td>NaN</td>\n",
       "      <td>0</td>\n",
       "      <td>NaN</td>\n",
       "      <td>NaN</td>\n",
       "      <td>NaN</td>\n",
       "      <td>NaN</td>\n",
       "      <td>NaN</td>\n",
       "    </tr>\n",
       "    <tr>\n",
       "      <td>170</td>\n",
       "      <td>4500000147</td>\n",
       "      <td>30</td>\n",
       "      <td>450000014700030</td>\n",
       "      <td>NaN</td>\n",
       "      <td>NaN</td>\n",
       "      <td>2019-12-31</td>\n",
       "      <td>Trad.Good 14,PD,Bought-In,H14</td>\n",
       "      <td>TG14</td>\n",
       "      <td>TG14</td>\n",
       "      <td>1710</td>\n",
       "      <td>...</td>\n",
       "      <td>NaN</td>\n",
       "      <td>NaN</td>\n",
       "      <td>0</td>\n",
       "      <td>NaN</td>\n",
       "      <td>0</td>\n",
       "      <td>NaN</td>\n",
       "      <td>NaN</td>\n",
       "      <td>NaN</td>\n",
       "      <td>NaN</td>\n",
       "      <td>NaN</td>\n",
       "    </tr>\n",
       "  </tbody>\n",
       "</table>\n",
       "<p>3 rows × 365 columns</p>\n",
       "</div>"
      ],
      "text/plain": [
       "     Purchasing Document  Item    Document Item Deletion indicator RFQ status  \\\n",
       "168           4500000147    10  450000014700010                NaN        NaN   \n",
       "169           4500000147    20  450000014700020                NaN        NaN   \n",
       "170           4500000147    30  450000014700030                NaN        NaN   \n",
       "\n",
       "    Last Changed on                     Short Text Material Material.1  \\\n",
       "168      2019-12-31          Spray Foam Insulation      250        250   \n",
       "169      2019-12-31                Vaseline Lotion      252        252   \n",
       "170      2019-12-31  Trad.Good 14,PD,Bought-In,H14     TG14       TG14   \n",
       "\n",
       "     Company Code  ... PSST Group Reference Document for PO Traceability  \\\n",
       "168          1710  ...        NaN                                    NaN   \n",
       "169          1710  ...        NaN                                    NaN   \n",
       "170          1710  ...        NaN                                    NaN   \n",
       "\n",
       "    Reference Item for PO Reference Split Action in PO  Reference Item  \\\n",
       "168                     0                          NaN               0   \n",
       "169                     0                          NaN               0   \n",
       "170                     0                          NaN               0   \n",
       "\n",
       "     Origin Profile  Key in Source System  Put-Back Indicator  \\\n",
       "168             NaN                   NaN                 NaN   \n",
       "169             NaN                   NaN                 NaN   \n",
       "170             NaN                   NaN                 NaN   \n",
       "\n",
       "    Order List Item Number Consignment Preferred?  \n",
       "168                    NaN                    NaN  \n",
       "169                    NaN                    NaN  \n",
       "170                    NaN                    NaN  \n",
       "\n",
       "[3 rows x 365 columns]"
      ]
     },
     "execution_count": 237,
     "metadata": {},
     "output_type": "execute_result"
    }
   ],
   "source": [
    "inv_ekpo= ekpo[ekpo['Purchasing Document']==4500000147]\n",
    "inv_ekpo"
   ]
  },
  {
   "cell_type": "code",
   "execution_count": 238,
   "metadata": {
    "ExecuteTime": {
     "end_time": "2020-01-20T11:13:48.342660Z",
     "start_time": "2020-01-20T11:13:48.329371Z"
    }
   },
   "outputs": [
    {
     "data": {
      "text/html": [
       "<div>\n",
       "<style scoped>\n",
       "    .dataframe tbody tr th:only-of-type {\n",
       "        vertical-align: middle;\n",
       "    }\n",
       "\n",
       "    .dataframe tbody tr th {\n",
       "        vertical-align: top;\n",
       "    }\n",
       "\n",
       "    .dataframe thead th {\n",
       "        text-align: right;\n",
       "    }\n",
       "</style>\n",
       "<table border=\"1\" class=\"dataframe\">\n",
       "  <thead>\n",
       "    <tr style=\"text-align: right;\">\n",
       "      <th></th>\n",
       "      <th>Purchasing Document</th>\n",
       "      <th>Order Quantity</th>\n",
       "      <th>Short Text</th>\n",
       "      <th>Gross order value</th>\n",
       "    </tr>\n",
       "  </thead>\n",
       "  <tbody>\n",
       "    <tr>\n",
       "      <td>168</td>\n",
       "      <td>4500000147</td>\n",
       "      <td>10</td>\n",
       "      <td>Spray Foam Insulation</td>\n",
       "      <td>300.0</td>\n",
       "    </tr>\n",
       "    <tr>\n",
       "      <td>169</td>\n",
       "      <td>4500000147</td>\n",
       "      <td>12</td>\n",
       "      <td>Vaseline Lotion</td>\n",
       "      <td>240.0</td>\n",
       "    </tr>\n",
       "    <tr>\n",
       "      <td>170</td>\n",
       "      <td>4500000147</td>\n",
       "      <td>11</td>\n",
       "      <td>Trad.Good 14,PD,Bought-In,H14</td>\n",
       "      <td>137.5</td>\n",
       "    </tr>\n",
       "  </tbody>\n",
       "</table>\n",
       "</div>"
      ],
      "text/plain": [
       "     Purchasing Document  Order Quantity                     Short Text  \\\n",
       "168           4500000147              10          Spray Foam Insulation   \n",
       "169           4500000147              12                Vaseline Lotion   \n",
       "170           4500000147              11  Trad.Good 14,PD,Bought-In,H14   \n",
       "\n",
       "     Gross order value  \n",
       "168              300.0  \n",
       "169              240.0  \n",
       "170              137.5  "
      ]
     },
     "execution_count": 238,
     "metadata": {},
     "output_type": "execute_result"
    }
   ],
   "source": [
    "final_ekpo = inv_ekpo [['Purchasing Document','Order Quantity','Short Text','Gross order value']]\n",
    "final_ekpo"
   ]
  },
  {
   "cell_type": "code",
   "execution_count": 239,
   "metadata": {
    "ExecuteTime": {
     "end_time": "2020-01-20T11:13:48.362126Z",
     "start_time": "2020-01-20T11:13:48.345490Z"
    }
   },
   "outputs": [
    {
     "data": {
      "text/html": [
       "<div>\n",
       "<style scoped>\n",
       "    .dataframe tbody tr th:only-of-type {\n",
       "        vertical-align: middle;\n",
       "    }\n",
       "\n",
       "    .dataframe tbody tr th {\n",
       "        vertical-align: top;\n",
       "    }\n",
       "\n",
       "    .dataframe thead th {\n",
       "        text-align: right;\n",
       "    }\n",
       "</style>\n",
       "<table border=\"1\" class=\"dataframe\">\n",
       "  <thead>\n",
       "    <tr style=\"text-align: right;\">\n",
       "      <th></th>\n",
       "      <th>Purchasing Document</th>\n",
       "      <th>Document Date</th>\n",
       "      <th>Vendor</th>\n",
       "      <th>Order Quantity</th>\n",
       "      <th>Short Text</th>\n",
       "      <th>Gross order value</th>\n",
       "    </tr>\n",
       "  </thead>\n",
       "  <tbody>\n",
       "    <tr>\n",
       "      <td>0</td>\n",
       "      <td>4500000147</td>\n",
       "      <td>2019-12-31</td>\n",
       "      <td>17100086</td>\n",
       "      <td>10</td>\n",
       "      <td>Spray Foam Insulation</td>\n",
       "      <td>300.0</td>\n",
       "    </tr>\n",
       "    <tr>\n",
       "      <td>1</td>\n",
       "      <td>4500000147</td>\n",
       "      <td>2019-12-31</td>\n",
       "      <td>17100086</td>\n",
       "      <td>12</td>\n",
       "      <td>Vaseline Lotion</td>\n",
       "      <td>240.0</td>\n",
       "    </tr>\n",
       "    <tr>\n",
       "      <td>2</td>\n",
       "      <td>4500000147</td>\n",
       "      <td>2019-12-31</td>\n",
       "      <td>17100086</td>\n",
       "      <td>11</td>\n",
       "      <td>Trad.Good 14,PD,Bought-In,H14</td>\n",
       "      <td>137.5</td>\n",
       "    </tr>\n",
       "  </tbody>\n",
       "</table>\n",
       "</div>"
      ],
      "text/plain": [
       "   Purchasing Document Document Date    Vendor  Order Quantity  \\\n",
       "0           4500000147    2019-12-31  17100086              10   \n",
       "1           4500000147    2019-12-31  17100086              12   \n",
       "2           4500000147    2019-12-31  17100086              11   \n",
       "\n",
       "                      Short Text  Gross order value  \n",
       "0          Spray Foam Insulation              300.0  \n",
       "1                Vaseline Lotion              240.0  \n",
       "2  Trad.Good 14,PD,Bought-In,H14              137.5  "
      ]
     },
     "execution_count": 239,
     "metadata": {},
     "output_type": "execute_result"
    }
   ],
   "source": [
    "final =final_ekko.merge(final_ekpo,on='Purchasing Document',how='inner')\n",
    "final"
   ]
  },
  {
   "cell_type": "code",
   "execution_count": 240,
   "metadata": {
    "ExecuteTime": {
     "end_time": "2020-01-20T11:13:48.373121Z",
     "start_time": "2020-01-20T11:13:48.364320Z"
    }
   },
   "outputs": [
    {
     "data": {
      "text/plain": [
       "(3, 6)"
      ]
     },
     "execution_count": 240,
     "metadata": {},
     "output_type": "execute_result"
    }
   ],
   "source": [
    "final.shape"
   ]
  },
  {
   "cell_type": "code",
   "execution_count": 241,
   "metadata": {
    "ExecuteTime": {
     "end_time": "2020-01-20T11:13:48.389097Z",
     "start_time": "2020-01-20T11:13:48.375118Z"
    }
   },
   "outputs": [
    {
     "data": {
      "text/html": [
       "<div>\n",
       "<style scoped>\n",
       "    .dataframe tbody tr th:only-of-type {\n",
       "        vertical-align: middle;\n",
       "    }\n",
       "\n",
       "    .dataframe tbody tr th {\n",
       "        vertical-align: top;\n",
       "    }\n",
       "\n",
       "    .dataframe thead th {\n",
       "        text-align: right;\n",
       "    }\n",
       "</style>\n",
       "<table border=\"1\" class=\"dataframe\">\n",
       "  <thead>\n",
       "    <tr style=\"text-align: right;\">\n",
       "      <th></th>\n",
       "      <th>Purchasing Document</th>\n",
       "      <th>Document Date</th>\n",
       "      <th>Vendor</th>\n",
       "      <th>Order Quantity</th>\n",
       "      <th>Short Text</th>\n",
       "      <th>Gross order value</th>\n",
       "    </tr>\n",
       "  </thead>\n",
       "  <tbody>\n",
       "    <tr>\n",
       "      <td>0</td>\n",
       "      <td>4500000147</td>\n",
       "      <td>2019-12-31</td>\n",
       "      <td>17100086</td>\n",
       "      <td>10</td>\n",
       "      <td>Spray Foam Insulation</td>\n",
       "      <td>300.0</td>\n",
       "    </tr>\n",
       "    <tr>\n",
       "      <td>1</td>\n",
       "      <td>4500000147</td>\n",
       "      <td>2019-12-31</td>\n",
       "      <td>17100086</td>\n",
       "      <td>12</td>\n",
       "      <td>Vaseline Lotion</td>\n",
       "      <td>240.0</td>\n",
       "    </tr>\n",
       "    <tr>\n",
       "      <td>2</td>\n",
       "      <td>4500000147</td>\n",
       "      <td>2019-12-31</td>\n",
       "      <td>17100086</td>\n",
       "      <td>11</td>\n",
       "      <td>Trad.Good 14,PD,Bought-In,H14</td>\n",
       "      <td>137.5</td>\n",
       "    </tr>\n",
       "  </tbody>\n",
       "</table>\n",
       "</div>"
      ],
      "text/plain": [
       "   Purchasing Document Document Date    Vendor  Order Quantity  \\\n",
       "0           4500000147    2019-12-31  17100086              10   \n",
       "1           4500000147    2019-12-31  17100086              12   \n",
       "2           4500000147    2019-12-31  17100086              11   \n",
       "\n",
       "                      Short Text  Gross order value  \n",
       "0          Spray Foam Insulation              300.0  \n",
       "1                Vaseline Lotion              240.0  \n",
       "2  Trad.Good 14,PD,Bought-In,H14              137.5  "
      ]
     },
     "execution_count": 241,
     "metadata": {},
     "output_type": "execute_result"
    }
   ],
   "source": [
    "final"
   ]
  },
  {
   "cell_type": "code",
   "execution_count": 242,
   "metadata": {
    "ExecuteTime": {
     "end_time": "2020-01-20T11:13:48.405741Z",
     "start_time": "2020-01-20T11:13:48.390095Z"
    }
   },
   "outputs": [
    {
     "data": {
      "text/html": [
       "<div>\n",
       "<style scoped>\n",
       "    .dataframe tbody tr th:only-of-type {\n",
       "        vertical-align: middle;\n",
       "    }\n",
       "\n",
       "    .dataframe tbody tr th {\n",
       "        vertical-align: top;\n",
       "    }\n",
       "\n",
       "    .dataframe thead th {\n",
       "        text-align: right;\n",
       "    }\n",
       "</style>\n",
       "<table border=\"1\" class=\"dataframe\">\n",
       "  <thead>\n",
       "    <tr style=\"text-align: right;\">\n",
       "      <th></th>\n",
       "      <th>Short Text</th>\n",
       "      <th>Purchasing Document</th>\n",
       "      <th>Document Date</th>\n",
       "      <th>Vendor</th>\n",
       "      <th>Description</th>\n",
       "      <th>Gross_Total_value</th>\n",
       "    </tr>\n",
       "  </thead>\n",
       "  <tbody>\n",
       "    <tr>\n",
       "      <td>0</td>\n",
       "      <td></td>\n",
       "      <td>4500000147</td>\n",
       "      <td>2019-12-31</td>\n",
       "      <td>17100086</td>\n",
       "      <td>11</td>\n",
       "      <td>677.5</td>\n",
       "    </tr>\n",
       "    <tr>\n",
       "      <td>1</td>\n",
       "      <td>Spray Foam Insulation</td>\n",
       "      <td>4500000147</td>\n",
       "      <td>2019-12-31</td>\n",
       "      <td>17100086</td>\n",
       "      <td>11</td>\n",
       "      <td>677.5</td>\n",
       "    </tr>\n",
       "    <tr>\n",
       "      <td>2</td>\n",
       "      <td>Vaseline Lotion</td>\n",
       "      <td>4500000147</td>\n",
       "      <td>2019-12-31</td>\n",
       "      <td>17100086</td>\n",
       "      <td>10</td>\n",
       "      <td>677.5</td>\n",
       "    </tr>\n",
       "  </tbody>\n",
       "</table>\n",
       "</div>"
      ],
      "text/plain": [
       "                Short Text  Purchasing Document Document Date    Vendor  \\\n",
       "0                                    4500000147    2019-12-31  17100086   \n",
       "1    Spray Foam Insulation           4500000147    2019-12-31  17100086   \n",
       "2          Vaseline Lotion           4500000147    2019-12-31  17100086   \n",
       "\n",
       "  Description  Gross_Total_value  \n",
       "0          11              677.5  \n",
       "1          11              677.5  \n",
       "2          10              677.5  "
      ]
     },
     "execution_count": 242,
     "metadata": {},
     "output_type": "execute_result"
    }
   ],
   "source": [
    "final_ext"
   ]
  },
  {
   "cell_type": "code",
   "execution_count": 243,
   "metadata": {
    "ExecuteTime": {
     "end_time": "2020-01-20T11:13:48.419882Z",
     "start_time": "2020-01-20T11:13:48.408305Z"
    }
   },
   "outputs": [
    {
     "data": {
      "text/html": [
       "<div>\n",
       "<style scoped>\n",
       "    .dataframe tbody tr th:only-of-type {\n",
       "        vertical-align: middle;\n",
       "    }\n",
       "\n",
       "    .dataframe tbody tr th {\n",
       "        vertical-align: top;\n",
       "    }\n",
       "\n",
       "    .dataframe thead th {\n",
       "        text-align: right;\n",
       "    }\n",
       "</style>\n",
       "<table border=\"1\" class=\"dataframe\">\n",
       "  <thead>\n",
       "    <tr style=\"text-align: right;\">\n",
       "      <th></th>\n",
       "      <th>Purchasing Document</th>\n",
       "      <th>Document Date</th>\n",
       "      <th>Vendor</th>\n",
       "      <th>Order Quantity</th>\n",
       "      <th>Short Text</th>\n",
       "      <th>Gross order value</th>\n",
       "    </tr>\n",
       "  </thead>\n",
       "  <tbody>\n",
       "    <tr>\n",
       "      <td>0</td>\n",
       "      <td>4500000147</td>\n",
       "      <td>2019-12-31</td>\n",
       "      <td>17100086</td>\n",
       "      <td>10</td>\n",
       "      <td>Spray Foam Insulation</td>\n",
       "      <td>300.0</td>\n",
       "    </tr>\n",
       "    <tr>\n",
       "      <td>1</td>\n",
       "      <td>4500000147</td>\n",
       "      <td>2019-12-31</td>\n",
       "      <td>17100086</td>\n",
       "      <td>12</td>\n",
       "      <td>Vaseline Lotion</td>\n",
       "      <td>240.0</td>\n",
       "    </tr>\n",
       "    <tr>\n",
       "      <td>2</td>\n",
       "      <td>4500000147</td>\n",
       "      <td>2019-12-31</td>\n",
       "      <td>17100086</td>\n",
       "      <td>11</td>\n",
       "      <td>Trad.Good 14,PD,Bought-In,H14</td>\n",
       "      <td>137.5</td>\n",
       "    </tr>\n",
       "  </tbody>\n",
       "</table>\n",
       "</div>"
      ],
      "text/plain": [
       "   Purchasing Document Document Date    Vendor  Order Quantity  \\\n",
       "0           4500000147    2019-12-31  17100086              10   \n",
       "1           4500000147    2019-12-31  17100086              12   \n",
       "2           4500000147    2019-12-31  17100086              11   \n",
       "\n",
       "                      Short Text  Gross order value  \n",
       "0          Spray Foam Insulation              300.0  \n",
       "1                Vaseline Lotion              240.0  \n",
       "2  Trad.Good 14,PD,Bought-In,H14              137.5  "
      ]
     },
     "execution_count": 243,
     "metadata": {},
     "output_type": "execute_result"
    }
   ],
   "source": [
    "final"
   ]
  },
  {
   "cell_type": "code",
   "execution_count": 244,
   "metadata": {
    "ExecuteTime": {
     "end_time": "2020-01-20T11:13:48.431882Z",
     "start_time": "2020-01-20T11:13:48.422922Z"
    }
   },
   "outputs": [
    {
     "name": "stdout",
     "output_type": "stream",
     "text": [
      "<class 'pandas.core.frame.DataFrame'>\n",
      "Int64Index: 3 entries, 0 to 2\n",
      "Data columns (total 6 columns):\n",
      "Purchasing Document    3 non-null int64\n",
      "Document Date          3 non-null datetime64[ns]\n",
      "Vendor                 3 non-null object\n",
      "Order Quantity         3 non-null int64\n",
      "Short Text             3 non-null object\n",
      "Gross order value      3 non-null float64\n",
      "dtypes: datetime64[ns](1), float64(1), int64(2), object(2)\n",
      "memory usage: 168.0+ bytes\n"
     ]
    }
   ],
   "source": [
    "final.info()"
   ]
  },
  {
   "cell_type": "code",
   "execution_count": 245,
   "metadata": {
    "ExecuteTime": {
     "end_time": "2020-01-20T11:13:48.444478Z",
     "start_time": "2020-01-20T11:13:48.432882Z"
    }
   },
   "outputs": [
    {
     "name": "stdout",
     "output_type": "stream",
     "text": [
      "<class 'pandas.core.frame.DataFrame'>\n",
      "RangeIndex: 3 entries, 0 to 2\n",
      "Data columns (total 6 columns):\n",
      "Short Text             3 non-null object\n",
      "Purchasing Document    3 non-null int64\n",
      "Document Date          3 non-null datetime64[ns]\n",
      "Vendor                 3 non-null object\n",
      "Description            3 non-null object\n",
      "Gross_Total_value      3 non-null float64\n",
      "dtypes: datetime64[ns](1), float64(1), int64(1), object(3)\n",
      "memory usage: 272.0+ bytes\n"
     ]
    }
   ],
   "source": [
    "final_ext.info()"
   ]
  },
  {
   "cell_type": "code",
   "execution_count": 246,
   "metadata": {
    "ExecuteTime": {
     "end_time": "2020-01-20T11:13:48.452907Z",
     "start_time": "2020-01-20T11:13:48.446474Z"
    }
   },
   "outputs": [],
   "source": [
    "final_ext=final_ext.astype({'Purchasing Document': 'int64'})"
   ]
  },
  {
   "cell_type": "code",
   "execution_count": 247,
   "metadata": {
    "ExecuteTime": {
     "end_time": "2020-01-20T11:13:48.463387Z",
     "start_time": "2020-01-20T11:13:48.455600Z"
    }
   },
   "outputs": [
    {
     "name": "stdout",
     "output_type": "stream",
     "text": [
      "<class 'pandas.core.frame.DataFrame'>\n",
      "RangeIndex: 3 entries, 0 to 2\n",
      "Data columns (total 6 columns):\n",
      "Short Text             3 non-null object\n",
      "Purchasing Document    3 non-null int64\n",
      "Document Date          3 non-null datetime64[ns]\n",
      "Vendor                 3 non-null object\n",
      "Description            3 non-null object\n",
      "Gross_Total_value      3 non-null float64\n",
      "dtypes: datetime64[ns](1), float64(1), int64(1), object(3)\n",
      "memory usage: 272.0+ bytes\n"
     ]
    }
   ],
   "source": [
    "final_ext.info()"
   ]
  },
  {
   "cell_type": "code",
   "execution_count": 248,
   "metadata": {
    "ExecuteTime": {
     "end_time": "2020-01-20T11:13:48.475687Z",
     "start_time": "2020-01-20T11:13:48.465410Z"
    }
   },
   "outputs": [],
   "source": [
    "final_ext['Document Date']= pd.to_datetime(final_ext['Document Date']) "
   ]
  },
  {
   "cell_type": "code",
   "execution_count": null,
   "metadata": {},
   "outputs": [],
   "source": []
  },
  {
   "cell_type": "code",
   "execution_count": 249,
   "metadata": {
    "ExecuteTime": {
     "end_time": "2020-01-20T11:13:48.488991Z",
     "start_time": "2020-01-20T11:13:48.475687Z"
    }
   },
   "outputs": [
    {
     "data": {
      "text/html": [
       "<div>\n",
       "<style scoped>\n",
       "    .dataframe tbody tr th:only-of-type {\n",
       "        vertical-align: middle;\n",
       "    }\n",
       "\n",
       "    .dataframe tbody tr th {\n",
       "        vertical-align: top;\n",
       "    }\n",
       "\n",
       "    .dataframe thead th {\n",
       "        text-align: right;\n",
       "    }\n",
       "</style>\n",
       "<table border=\"1\" class=\"dataframe\">\n",
       "  <thead>\n",
       "    <tr style=\"text-align: right;\">\n",
       "      <th></th>\n",
       "      <th>Purchasing Document</th>\n",
       "      <th>Document Date</th>\n",
       "      <th>Vendor</th>\n",
       "      <th>Order Quantity</th>\n",
       "      <th>Short Text</th>\n",
       "      <th>Gross order value</th>\n",
       "    </tr>\n",
       "  </thead>\n",
       "  <tbody>\n",
       "    <tr>\n",
       "      <td>0</td>\n",
       "      <td>4500000147</td>\n",
       "      <td>2019-12-31</td>\n",
       "      <td>17100086</td>\n",
       "      <td>10</td>\n",
       "      <td>Spray Foam Insulation</td>\n",
       "      <td>300.0</td>\n",
       "    </tr>\n",
       "    <tr>\n",
       "      <td>1</td>\n",
       "      <td>4500000147</td>\n",
       "      <td>2019-12-31</td>\n",
       "      <td>17100086</td>\n",
       "      <td>12</td>\n",
       "      <td>Vaseline Lotion</td>\n",
       "      <td>240.0</td>\n",
       "    </tr>\n",
       "    <tr>\n",
       "      <td>2</td>\n",
       "      <td>4500000147</td>\n",
       "      <td>2019-12-31</td>\n",
       "      <td>17100086</td>\n",
       "      <td>11</td>\n",
       "      <td>Trad.Good 14,PD,Bought-In,H14</td>\n",
       "      <td>137.5</td>\n",
       "    </tr>\n",
       "  </tbody>\n",
       "</table>\n",
       "</div>"
      ],
      "text/plain": [
       "   Purchasing Document Document Date    Vendor  Order Quantity  \\\n",
       "0           4500000147    2019-12-31  17100086              10   \n",
       "1           4500000147    2019-12-31  17100086              12   \n",
       "2           4500000147    2019-12-31  17100086              11   \n",
       "\n",
       "                      Short Text  Gross order value  \n",
       "0          Spray Foam Insulation              300.0  \n",
       "1                Vaseline Lotion              240.0  \n",
       "2  Trad.Good 14,PD,Bought-In,H14              137.5  "
      ]
     },
     "execution_count": 249,
     "metadata": {},
     "output_type": "execute_result"
    }
   ],
   "source": [
    "final"
   ]
  },
  {
   "cell_type": "code",
   "execution_count": 250,
   "metadata": {
    "ExecuteTime": {
     "end_time": "2020-01-20T11:13:48.504974Z",
     "start_time": "2020-01-20T11:13:48.490989Z"
    }
   },
   "outputs": [
    {
     "data": {
      "text/html": [
       "<div>\n",
       "<style scoped>\n",
       "    .dataframe tbody tr th:only-of-type {\n",
       "        vertical-align: middle;\n",
       "    }\n",
       "\n",
       "    .dataframe tbody tr th {\n",
       "        vertical-align: top;\n",
       "    }\n",
       "\n",
       "    .dataframe thead th {\n",
       "        text-align: right;\n",
       "    }\n",
       "</style>\n",
       "<table border=\"1\" class=\"dataframe\">\n",
       "  <thead>\n",
       "    <tr style=\"text-align: right;\">\n",
       "      <th></th>\n",
       "      <th>Short Text</th>\n",
       "      <th>Purchasing Document</th>\n",
       "      <th>Document Date</th>\n",
       "      <th>Vendor</th>\n",
       "      <th>Description</th>\n",
       "      <th>Gross_Total_value</th>\n",
       "    </tr>\n",
       "  </thead>\n",
       "  <tbody>\n",
       "    <tr>\n",
       "      <td>0</td>\n",
       "      <td></td>\n",
       "      <td>4500000147</td>\n",
       "      <td>2019-12-31</td>\n",
       "      <td>17100086</td>\n",
       "      <td>11</td>\n",
       "      <td>677.5</td>\n",
       "    </tr>\n",
       "    <tr>\n",
       "      <td>1</td>\n",
       "      <td>Spray Foam Insulation</td>\n",
       "      <td>4500000147</td>\n",
       "      <td>2019-12-31</td>\n",
       "      <td>17100086</td>\n",
       "      <td>11</td>\n",
       "      <td>677.5</td>\n",
       "    </tr>\n",
       "    <tr>\n",
       "      <td>2</td>\n",
       "      <td>Vaseline Lotion</td>\n",
       "      <td>4500000147</td>\n",
       "      <td>2019-12-31</td>\n",
       "      <td>17100086</td>\n",
       "      <td>10</td>\n",
       "      <td>677.5</td>\n",
       "    </tr>\n",
       "  </tbody>\n",
       "</table>\n",
       "</div>"
      ],
      "text/plain": [
       "                Short Text  Purchasing Document Document Date    Vendor  \\\n",
       "0                                    4500000147    2019-12-31  17100086   \n",
       "1    Spray Foam Insulation           4500000147    2019-12-31  17100086   \n",
       "2          Vaseline Lotion           4500000147    2019-12-31  17100086   \n",
       "\n",
       "  Description  Gross_Total_value  \n",
       "0          11              677.5  \n",
       "1          11              677.5  \n",
       "2          10              677.5  "
      ]
     },
     "execution_count": 250,
     "metadata": {},
     "output_type": "execute_result"
    }
   ],
   "source": [
    "final_ext"
   ]
  },
  {
   "cell_type": "code",
   "execution_count": null,
   "metadata": {},
   "outputs": [],
   "source": []
  },
  {
   "cell_type": "code",
   "execution_count": 251,
   "metadata": {
    "ExecuteTime": {
     "end_time": "2020-01-20T11:13:48.511352Z",
     "start_time": "2020-01-20T11:13:48.505972Z"
    }
   },
   "outputs": [
    {
     "data": {
      "text/plain": [
       "False"
      ]
     },
     "execution_count": 251,
     "metadata": {},
     "output_type": "execute_result"
    }
   ],
   "source": [
    "final_ext.equals(final)"
   ]
  },
  {
   "cell_type": "code",
   "execution_count": 252,
   "metadata": {
    "ExecuteTime": {
     "end_time": "2020-01-20T11:13:48.526321Z",
     "start_time": "2020-01-20T11:13:48.513510Z"
    }
   },
   "outputs": [
    {
     "ename": "ValueError",
     "evalue": "Can only compare identically-labeled DataFrame objects",
     "output_type": "error",
     "traceback": [
      "\u001b[1;31m---------------------------------------------------------------------------\u001b[0m",
      "\u001b[1;31mValueError\u001b[0m                                Traceback (most recent call last)",
      "\u001b[1;32m<ipython-input-252-704c8d3a2a50>\u001b[0m in \u001b[0;36m<module>\u001b[1;34m\u001b[0m\n\u001b[1;32m----> 1\u001b[1;33m \u001b[0mdifference_locations\u001b[0m \u001b[1;33m=\u001b[0m \u001b[0mnp\u001b[0m\u001b[1;33m.\u001b[0m\u001b[0mwhere\u001b[0m\u001b[1;33m(\u001b[0m\u001b[0mfinal\u001b[0m \u001b[1;33m!=\u001b[0m \u001b[0mfinal_ext\u001b[0m\u001b[1;33m)\u001b[0m\u001b[1;33m\u001b[0m\u001b[1;33m\u001b[0m\u001b[0m\n\u001b[0m\u001b[0;32m      2\u001b[0m \u001b[1;33m\u001b[0m\u001b[0m\n\u001b[0;32m      3\u001b[0m \u001b[0mdifference_locations\u001b[0m\u001b[1;33m\u001b[0m\u001b[1;33m\u001b[0m\u001b[0m\n",
      "\u001b[1;32m~\\Anaconda3\\lib\\site-packages\\pandas\\core\\ops\\__init__.py\u001b[0m in \u001b[0;36mf\u001b[1;34m(self, other)\u001b[0m\n\u001b[0;32m   1565\u001b[0m             \u001b[1;32mif\u001b[0m \u001b[1;32mnot\u001b[0m \u001b[0mself\u001b[0m\u001b[1;33m.\u001b[0m\u001b[0m_indexed_same\u001b[0m\u001b[1;33m(\u001b[0m\u001b[0mother\u001b[0m\u001b[1;33m)\u001b[0m\u001b[1;33m:\u001b[0m\u001b[1;33m\u001b[0m\u001b[1;33m\u001b[0m\u001b[0m\n\u001b[0;32m   1566\u001b[0m                 raise ValueError(\n\u001b[1;32m-> 1567\u001b[1;33m                     \u001b[1;34m\"Can only compare identically-labeled \"\u001b[0m \u001b[1;34m\"DataFrame objects\"\u001b[0m\u001b[1;33m\u001b[0m\u001b[1;33m\u001b[0m\u001b[0m\n\u001b[0m\u001b[0;32m   1568\u001b[0m                 )\n\u001b[0;32m   1569\u001b[0m             \u001b[1;32mreturn\u001b[0m \u001b[0mdispatch_to_series\u001b[0m\u001b[1;33m(\u001b[0m\u001b[0mself\u001b[0m\u001b[1;33m,\u001b[0m \u001b[0mother\u001b[0m\u001b[1;33m,\u001b[0m \u001b[0mfunc\u001b[0m\u001b[1;33m,\u001b[0m \u001b[0mstr_rep\u001b[0m\u001b[1;33m)\u001b[0m\u001b[1;33m\u001b[0m\u001b[1;33m\u001b[0m\u001b[0m\n",
      "\u001b[1;31mValueError\u001b[0m: Can only compare identically-labeled DataFrame objects"
     ]
    }
   ],
   "source": [
    "difference_locations = np.where(final != final_ext)\n",
    "\n",
    "difference_locations\n"
   ]
  },
  {
   "cell_type": "code",
   "execution_count": null,
   "metadata": {
    "ExecuteTime": {
     "end_time": "2020-01-20T11:13:48.530280Z",
     "start_time": "2020-01-20T11:13:46.413Z"
    }
   },
   "outputs": [],
   "source": [
    "changed_from = final.values[difference_locations]\n",
    "changed_from"
   ]
  },
  {
   "cell_type": "code",
   "execution_count": null,
   "metadata": {
    "ExecuteTime": {
     "end_time": "2020-01-20T11:13:48.531276Z",
     "start_time": "2020-01-20T11:13:46.414Z"
    }
   },
   "outputs": [],
   "source": [
    "changed_to = final_ext.values[difference_locations]\n",
    "changed_to"
   ]
  },
  {
   "cell_type": "code",
   "execution_count": null,
   "metadata": {
    "ExecuteTime": {
     "end_time": "2020-01-20T11:13:48.532962Z",
     "start_time": "2020-01-20T11:13:46.417Z"
    }
   },
   "outputs": [],
   "source": [
    "pd.DataFrame({'from': changed_from, 'to': changed_to})"
   ]
  },
  {
   "cell_type": "code",
   "execution_count": null,
   "metadata": {},
   "outputs": [],
   "source": []
  },
  {
   "cell_type": "code",
   "execution_count": null,
   "metadata": {},
   "outputs": [],
   "source": []
  },
  {
   "cell_type": "code",
   "execution_count": null,
   "metadata": {},
   "outputs": [],
   "source": []
  },
  {
   "cell_type": "code",
   "execution_count": null,
   "metadata": {},
   "outputs": [],
   "source": []
  },
  {
   "cell_type": "code",
   "execution_count": null,
   "metadata": {},
   "outputs": [],
   "source": []
  },
  {
   "cell_type": "code",
   "execution_count": null,
   "metadata": {},
   "outputs": [],
   "source": []
  },
  {
   "cell_type": "code",
   "execution_count": null,
   "metadata": {},
   "outputs": [],
   "source": []
  },
  {
   "cell_type": "code",
   "execution_count": null,
   "metadata": {},
   "outputs": [],
   "source": []
  },
  {
   "cell_type": "code",
   "execution_count": null,
   "metadata": {},
   "outputs": [],
   "source": []
  },
  {
   "cell_type": "code",
   "execution_count": null,
   "metadata": {},
   "outputs": [],
   "source": []
  },
  {
   "cell_type": "code",
   "execution_count": null,
   "metadata": {},
   "outputs": [],
   "source": []
  },
  {
   "cell_type": "code",
   "execution_count": null,
   "metadata": {},
   "outputs": [],
   "source": []
  },
  {
   "cell_type": "code",
   "execution_count": null,
   "metadata": {},
   "outputs": [],
   "source": []
  },
  {
   "cell_type": "code",
   "execution_count": null,
   "metadata": {},
   "outputs": [],
   "source": []
  },
  {
   "cell_type": "code",
   "execution_count": null,
   "metadata": {},
   "outputs": [],
   "source": []
  },
  {
   "cell_type": "code",
   "execution_count": null,
   "metadata": {},
   "outputs": [],
   "source": []
  }
 ],
 "metadata": {
  "kernelspec": {
   "display_name": "Python 3",
   "language": "python",
   "name": "python3"
  },
  "language_info": {
   "codemirror_mode": {
    "name": "ipython",
    "version": 3
   },
   "file_extension": ".py",
   "mimetype": "text/x-python",
   "name": "python",
   "nbconvert_exporter": "python",
   "pygments_lexer": "ipython3",
   "version": "3.7.4"
  },
  "varInspector": {
   "cols": {
    "lenName": 16,
    "lenType": 16,
    "lenVar": 40
   },
   "kernels_config": {
    "python": {
     "delete_cmd_postfix": "",
     "delete_cmd_prefix": "del ",
     "library": "var_list.py",
     "varRefreshCmd": "print(var_dic_list())"
    },
    "r": {
     "delete_cmd_postfix": ") ",
     "delete_cmd_prefix": "rm(",
     "library": "var_list.r",
     "varRefreshCmd": "cat(var_dic_list()) "
    }
   },
   "types_to_exclude": [
    "module",
    "function",
    "builtin_function_or_method",
    "instance",
    "_Feature"
   ],
   "window_display": false
  }
 },
 "nbformat": 4,
 "nbformat_minor": 2
}
